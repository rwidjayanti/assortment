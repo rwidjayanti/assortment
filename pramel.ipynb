{
 "cells": [
  {
   "cell_type": "markdown",
   "metadata": {},
   "source": [
    "In January 2022, PBSI, Badminton Association of Indonesia, announced 88 names of badminton athletes who will stay in national training center (Pelatnas). Of those 88 names, Praveen Jordan and Melati Daeva Oktavianti, the 2020 All England Mixed Doubles champion are not found on the list.\n",
    "\n",
    "This was a surprising news as Praveen/Melati has been the number one XD from Indonesia since Owi/Natsir retired. For PBSI to kicked out the world number four ranked XD pair, many questioned why this decision was taken.\n",
    "\n",
    "In this notebook, we will try to answer that question by analyzing the matches data from 2018 to 2021, scraped from badmintonstatistics.net."
   ]
  },
  {
   "cell_type": "code",
   "execution_count": 1,
   "metadata": {
    "id": "z0lD5TMxkVJx"
   },
   "outputs": [],
   "source": [
    "import pandas as pd\n",
    "import seaborn as sns\n",
    "import matplotlib.pyplot as plt"
   ]
  },
  {
   "cell_type": "code",
   "execution_count": 2,
   "metadata": {
    "id": "Rdo3bYmWkady"
   },
   "outputs": [],
   "source": [
    "url = 'https://badmintonstatistics.net/Player?playerid=132046079&year=0&level=all&category=%&round=%&country=%&partner=132040261&rank=%&hand=%&height=%&qualification=%&startdate=1900-01-01&enddate=2100-01-01'\n",
    "performances = pd.read_html(url)[3]\n"
   ]
  },
  {
   "cell_type": "code",
   "execution_count": 3,
   "metadata": {},
   "outputs": [
    {
     "data": {
      "text/html": [
       "<div>\n",
       "<style scoped>\n",
       "    .dataframe tbody tr th:only-of-type {\n",
       "        vertical-align: middle;\n",
       "    }\n",
       "\n",
       "    .dataframe tbody tr th {\n",
       "        vertical-align: top;\n",
       "    }\n",
       "\n",
       "    .dataframe thead th {\n",
       "        text-align: right;\n",
       "    }\n",
       "</style>\n",
       "<table border=\"1\" class=\"dataframe\">\n",
       "  <thead>\n",
       "    <tr style=\"text-align: right;\">\n",
       "      <th></th>\n",
       "      <th>Tournament</th>\n",
       "      <th>2013</th>\n",
       "      <th>2014</th>\n",
       "      <th>2015</th>\n",
       "      <th>2016</th>\n",
       "      <th>2017</th>\n",
       "      <th>2018</th>\n",
       "      <th>2019</th>\n",
       "      <th>2020</th>\n",
       "      <th>2021</th>\n",
       "      <th>2022</th>\n",
       "      <th>Best</th>\n",
       "    </tr>\n",
       "  </thead>\n",
       "  <tbody>\n",
       "    <tr>\n",
       "      <th>0</th>\n",
       "      <td>World Championships</td>\n",
       "      <td>-</td>\n",
       "      <td>QF</td>\n",
       "      <td>QF</td>\n",
       "      <td>-</td>\n",
       "      <td>QF</td>\n",
       "      <td>R3</td>\n",
       "      <td>R3</td>\n",
       "      <td>-</td>\n",
       "      <td>R2</td>\n",
       "      <td>-</td>\n",
       "      <td>QF ('14 '15 '17)</td>\n",
       "    </tr>\n",
       "    <tr>\n",
       "      <th>1</th>\n",
       "      <td>All England</td>\n",
       "      <td>R2</td>\n",
       "      <td>R2(Q)</td>\n",
       "      <td>SF</td>\n",
       "      <td>W</td>\n",
       "      <td>R1</td>\n",
       "      <td>QF</td>\n",
       "      <td>SF</td>\n",
       "      <td>W</td>\n",
       "      <td>R1</td>\n",
       "      <td>QF</td>\n",
       "      <td>W ('16 '20)</td>\n",
       "    </tr>\n",
       "    <tr>\n",
       "      <th>2</th>\n",
       "      <td>Indonesia Open</td>\n",
       "      <td>R1</td>\n",
       "      <td>R2</td>\n",
       "      <td>R2</td>\n",
       "      <td>R1</td>\n",
       "      <td>R1</td>\n",
       "      <td>R1</td>\n",
       "      <td>R1</td>\n",
       "      <td>-</td>\n",
       "      <td>R2</td>\n",
       "      <td>R2</td>\n",
       "      <td>R2 ('14 '15 '21 '22)</td>\n",
       "    </tr>\n",
       "    <tr>\n",
       "      <th>3</th>\n",
       "      <td>Malaysia Open</td>\n",
       "      <td>SF</td>\n",
       "      <td>QF</td>\n",
       "      <td>R1</td>\n",
       "      <td>R2</td>\n",
       "      <td>R2</td>\n",
       "      <td>R1</td>\n",
       "      <td>R1</td>\n",
       "      <td>-</td>\n",
       "      <td>-</td>\n",
       "      <td>-</td>\n",
       "      <td>SF ('13)</td>\n",
       "    </tr>\n",
       "    <tr>\n",
       "      <th>4</th>\n",
       "      <td>Japan Open</td>\n",
       "      <td>QF</td>\n",
       "      <td>R2</td>\n",
       "      <td>R2</td>\n",
       "      <td>-</td>\n",
       "      <td>SF</td>\n",
       "      <td>QF</td>\n",
       "      <td>F</td>\n",
       "      <td>-</td>\n",
       "      <td>-</td>\n",
       "      <td>-</td>\n",
       "      <td>F ('19)</td>\n",
       "    </tr>\n",
       "  </tbody>\n",
       "</table>\n",
       "</div>"
      ],
      "text/plain": [
       "            Tournament 2013   2014 2015 2016 2017 2018 2019 2020 2021 2022  \\\n",
       "0  World Championships    -     QF   QF    -   QF   R3   R3    -   R2    -   \n",
       "1          All England   R2  R2(Q)   SF    W   R1   QF   SF    W   R1   QF   \n",
       "2       Indonesia Open   R1     R2   R2   R1   R1   R1   R1    -   R2   R2   \n",
       "3        Malaysia Open   SF     QF   R1   R2   R2   R1   R1    -    -    -   \n",
       "4           Japan Open   QF     R2   R2    -   SF   QF    F    -    -    -   \n",
       "\n",
       "                   Best  \n",
       "0      QF ('14 '15 '17)  \n",
       "1           W ('16 '20)  \n",
       "2  R2 ('14 '15 '21 '22)  \n",
       "3              SF ('13)  \n",
       "4               F ('19)  "
      ]
     },
     "execution_count": 3,
     "metadata": {},
     "output_type": "execute_result"
    }
   ],
   "source": [
    "performances.head(5)"
   ]
  },
  {
   "cell_type": "markdown",
   "metadata": {},
   "source": [
    "This is Praveen's performances data, how far he was going in each tournament in each year. Note that Praveen used to be partnered with Vita Marissa and Debby Susanto before 2018. So we are going to drop those years, along with 2022 since he is kicked out from Pelatnas in Januari 2022."
   ]
  },
  {
   "cell_type": "code",
   "execution_count": 4,
   "metadata": {
    "id": "OrS6EUexk6vl"
   },
   "outputs": [],
   "source": [
    "performances.drop(['2013','2014','2015','2016','2017','2022','Best'], axis=1, inplace=True)"
   ]
  },
  {
   "cell_type": "markdown",
   "metadata": {},
   "source": [
    "We are going to count each stages from the same year."
   ]
  },
  {
   "cell_type": "code",
   "execution_count": 5,
   "metadata": {
    "colab": {
     "base_uri": "https://localhost:8080/",
     "height": 363
    },
    "id": "gN4-XC5IoOAK",
    "outputId": "367ff548-afee-45fc-8795-18e6c1a31564"
   },
   "outputs": [
    {
     "data": {
      "text/html": [
       "<div>\n",
       "<style scoped>\n",
       "    .dataframe tbody tr th:only-of-type {\n",
       "        vertical-align: middle;\n",
       "    }\n",
       "\n",
       "    .dataframe tbody tr th {\n",
       "        vertical-align: top;\n",
       "    }\n",
       "\n",
       "    .dataframe thead th {\n",
       "        text-align: right;\n",
       "    }\n",
       "</style>\n",
       "<table border=\"1\" class=\"dataframe\">\n",
       "  <thead>\n",
       "    <tr style=\"text-align: right;\">\n",
       "      <th></th>\n",
       "      <th>2018</th>\n",
       "      <th>2019</th>\n",
       "      <th>2020</th>\n",
       "      <th>2021</th>\n",
       "    </tr>\n",
       "  </thead>\n",
       "  <tbody>\n",
       "    <tr>\n",
       "      <th>-</th>\n",
       "      <td>12.0</td>\n",
       "      <td>9.0</td>\n",
       "      <td>25.0</td>\n",
       "      <td>21.0</td>\n",
       "    </tr>\n",
       "    <tr>\n",
       "      <th>F</th>\n",
       "      <td>1.0</td>\n",
       "      <td>4.0</td>\n",
       "      <td>NaN</td>\n",
       "      <td>1.0</td>\n",
       "    </tr>\n",
       "    <tr>\n",
       "      <th>Group</th>\n",
       "      <td>NaN</td>\n",
       "      <td>1.0</td>\n",
       "      <td>1.0</td>\n",
       "      <td>1.0</td>\n",
       "    </tr>\n",
       "    <tr>\n",
       "      <th>QF</th>\n",
       "      <td>6.0</td>\n",
       "      <td>3.0</td>\n",
       "      <td>1.0</td>\n",
       "      <td>2.0</td>\n",
       "    </tr>\n",
       "    <tr>\n",
       "      <th>R1</th>\n",
       "      <td>5.0</td>\n",
       "      <td>4.0</td>\n",
       "      <td>1.0</td>\n",
       "      <td>2.0</td>\n",
       "    </tr>\n",
       "    <tr>\n",
       "      <th>R1/F</th>\n",
       "      <td>NaN</td>\n",
       "      <td>NaN</td>\n",
       "      <td>1.0</td>\n",
       "      <td>NaN</td>\n",
       "    </tr>\n",
       "    <tr>\n",
       "      <th>R2</th>\n",
       "      <td>3.0</td>\n",
       "      <td>5.0</td>\n",
       "      <td>NaN</td>\n",
       "      <td>2.0</td>\n",
       "    </tr>\n",
       "    <tr>\n",
       "      <th>R3</th>\n",
       "      <td>1.0</td>\n",
       "      <td>1.0</td>\n",
       "      <td>NaN</td>\n",
       "      <td>NaN</td>\n",
       "    </tr>\n",
       "    <tr>\n",
       "      <th>SF</th>\n",
       "      <td>2.0</td>\n",
       "      <td>1.0</td>\n",
       "      <td>NaN</td>\n",
       "      <td>1.0</td>\n",
       "    </tr>\n",
       "    <tr>\n",
       "      <th>W</th>\n",
       "      <td>NaN</td>\n",
       "      <td>2.0</td>\n",
       "      <td>1.0</td>\n",
       "      <td>NaN</td>\n",
       "    </tr>\n",
       "  </tbody>\n",
       "</table>\n",
       "</div>"
      ],
      "text/plain": [
       "       2018  2019  2020  2021\n",
       "-      12.0   9.0  25.0  21.0\n",
       "F       1.0   4.0   NaN   1.0\n",
       "Group   NaN   1.0   1.0   1.0\n",
       "QF      6.0   3.0   1.0   2.0\n",
       "R1      5.0   4.0   1.0   2.0\n",
       "R1/F    NaN   NaN   1.0   NaN\n",
       "R2      3.0   5.0   NaN   2.0\n",
       "R3      1.0   1.0   NaN   NaN\n",
       "SF      2.0   1.0   NaN   1.0\n",
       "W       NaN   2.0   1.0   NaN"
      ]
     },
     "execution_count": 5,
     "metadata": {},
     "output_type": "execute_result"
    }
   ],
   "source": [
    "count=performances[['2018', '2019','2020','2021']].apply(pd.Series.value_counts)\n",
    "count"
   ]
  },
  {
   "cell_type": "code",
   "execution_count": 6,
   "metadata": {},
   "outputs": [
    {
     "data": {
      "text/html": [
       "<div>\n",
       "<style scoped>\n",
       "    .dataframe tbody tr th:only-of-type {\n",
       "        vertical-align: middle;\n",
       "    }\n",
       "\n",
       "    .dataframe tbody tr th {\n",
       "        vertical-align: top;\n",
       "    }\n",
       "\n",
       "    .dataframe thead th {\n",
       "        text-align: right;\n",
       "    }\n",
       "</style>\n",
       "<table border=\"1\" class=\"dataframe\">\n",
       "  <thead>\n",
       "    <tr style=\"text-align: right;\">\n",
       "      <th></th>\n",
       "      <th>Tournament</th>\n",
       "      <th>2018</th>\n",
       "      <th>2019</th>\n",
       "      <th>2020</th>\n",
       "      <th>2021</th>\n",
       "    </tr>\n",
       "  </thead>\n",
       "  <tbody>\n",
       "    <tr>\n",
       "      <th>11</th>\n",
       "      <td>Thailand Open</td>\n",
       "      <td>QF</td>\n",
       "      <td>R2</td>\n",
       "      <td>R1/F</td>\n",
       "      <td>-</td>\n",
       "    </tr>\n",
       "    <tr>\n",
       "      <th>25</th>\n",
       "      <td>Season Finals</td>\n",
       "      <td>-</td>\n",
       "      <td>Group</td>\n",
       "      <td>Group</td>\n",
       "      <td>Group</td>\n",
       "    </tr>\n",
       "  </tbody>\n",
       "</table>\n",
       "</div>"
      ],
      "text/plain": [
       "       Tournament 2018   2019   2020   2021\n",
       "11  Thailand Open   QF     R2   R1/F      -\n",
       "25  Season Finals    -  Group  Group  Group"
      ]
     },
     "execution_count": 6,
     "metadata": {},
     "output_type": "execute_result"
    }
   ],
   "source": [
    "performances[(performances['2020']=='R1/F')|(performances['2019']=='Group')]"
   ]
  },
  {
   "cell_type": "markdown",
   "metadata": {},
   "source": [
    "The '-' symbol refers to no result, it's either the tournaments were not held, or they did not participated.\n",
    "\n",
    "Group refers to group stage in Season Finals--a special event for 8 athletes/pairs in each sectors with most points from that calendar year's event. Praveen/Melati did not get selected for Season Finals in 2018 and only got to group stage in 2019-2021. As the result stay the same (group stage), we are going to drop data from season finals.\n",
    "\n",
    "Apparently, they held two 2020 Thailand Open tournaments due to COVID. Praveen/Melati reached final stage in one of the two, and only reach round one in the other."
   ]
  },
  {
   "cell_type": "markdown",
   "metadata": {},
   "source": [
    "Based on that situation, we are going to clean the data."
   ]
  },
  {
   "cell_type": "code",
   "execution_count": 7,
   "metadata": {
    "colab": {
     "base_uri": "https://localhost:8080/",
     "height": 300
    },
    "id": "RvKMNsu6ojgj",
    "outputId": "65e26bbe-ac9a-4be3-a361-a71915737a06"
   },
   "outputs": [
    {
     "data": {
      "text/html": [
       "<div>\n",
       "<style scoped>\n",
       "    .dataframe tbody tr th:only-of-type {\n",
       "        vertical-align: middle;\n",
       "    }\n",
       "\n",
       "    .dataframe tbody tr th {\n",
       "        vertical-align: top;\n",
       "    }\n",
       "\n",
       "    .dataframe thead th {\n",
       "        text-align: right;\n",
       "    }\n",
       "</style>\n",
       "<table border=\"1\" class=\"dataframe\">\n",
       "  <thead>\n",
       "    <tr style=\"text-align: right;\">\n",
       "      <th></th>\n",
       "      <th>2018</th>\n",
       "      <th>2019</th>\n",
       "      <th>2020</th>\n",
       "      <th>2021</th>\n",
       "    </tr>\n",
       "  </thead>\n",
       "  <tbody>\n",
       "    <tr>\n",
       "      <th>NP</th>\n",
       "      <td>12.0</td>\n",
       "      <td>9.0</td>\n",
       "      <td>25.0</td>\n",
       "      <td>21.0</td>\n",
       "    </tr>\n",
       "    <tr>\n",
       "      <th>F</th>\n",
       "      <td>1.0</td>\n",
       "      <td>4.0</td>\n",
       "      <td>1.0</td>\n",
       "      <td>1.0</td>\n",
       "    </tr>\n",
       "    <tr>\n",
       "      <th>QF</th>\n",
       "      <td>6.0</td>\n",
       "      <td>3.0</td>\n",
       "      <td>1.0</td>\n",
       "      <td>2.0</td>\n",
       "    </tr>\n",
       "    <tr>\n",
       "      <th>R1</th>\n",
       "      <td>5.0</td>\n",
       "      <td>4.0</td>\n",
       "      <td>2.0</td>\n",
       "      <td>2.0</td>\n",
       "    </tr>\n",
       "    <tr>\n",
       "      <th>R2</th>\n",
       "      <td>3.0</td>\n",
       "      <td>5.0</td>\n",
       "      <td>0.0</td>\n",
       "      <td>2.0</td>\n",
       "    </tr>\n",
       "    <tr>\n",
       "      <th>R3</th>\n",
       "      <td>1.0</td>\n",
       "      <td>1.0</td>\n",
       "      <td>0.0</td>\n",
       "      <td>0.0</td>\n",
       "    </tr>\n",
       "    <tr>\n",
       "      <th>SF</th>\n",
       "      <td>2.0</td>\n",
       "      <td>1.0</td>\n",
       "      <td>0.0</td>\n",
       "      <td>1.0</td>\n",
       "    </tr>\n",
       "    <tr>\n",
       "      <th>W</th>\n",
       "      <td>0.0</td>\n",
       "      <td>2.0</td>\n",
       "      <td>1.0</td>\n",
       "      <td>0.0</td>\n",
       "    </tr>\n",
       "  </tbody>\n",
       "</table>\n",
       "</div>"
      ],
      "text/plain": [
       "    2018  2019  2020  2021\n",
       "NP  12.0   9.0  25.0  21.0\n",
       "F    1.0   4.0   1.0   1.0\n",
       "QF   6.0   3.0   1.0   2.0\n",
       "R1   5.0   4.0   2.0   2.0\n",
       "R2   3.0   5.0   0.0   2.0\n",
       "R3   1.0   1.0   0.0   0.0\n",
       "SF   2.0   1.0   0.0   1.0\n",
       "W    0.0   2.0   1.0   0.0"
      ]
     },
     "execution_count": 7,
     "metadata": {},
     "output_type": "execute_result"
    }
   ],
   "source": [
    "count.fillna(0,inplace=True)\n",
    "count.loc['R1','2020']+=1\n",
    "count.loc['F','2020']+=1\n",
    "count.drop(['R1/F','Group'], axis=0,inplace=True)\n",
    "count.rename(index={'-':'NP'}, inplace=True)\n",
    "count"
   ]
  },
  {
   "cell_type": "code",
   "execution_count": 8,
   "metadata": {
    "colab": {
     "base_uri": "https://localhost:8080/",
     "height": 300
    },
    "id": "h_qmzSQyq5iD",
    "outputId": "3435c7a5-0e5b-4acc-c3d0-91317628c423"
   },
   "outputs": [
    {
     "data": {
      "text/html": [
       "<div>\n",
       "<style scoped>\n",
       "    .dataframe tbody tr th:only-of-type {\n",
       "        vertical-align: middle;\n",
       "    }\n",
       "\n",
       "    .dataframe tbody tr th {\n",
       "        vertical-align: top;\n",
       "    }\n",
       "\n",
       "    .dataframe thead th {\n",
       "        text-align: right;\n",
       "    }\n",
       "</style>\n",
       "<table border=\"1\" class=\"dataframe\">\n",
       "  <thead>\n",
       "    <tr style=\"text-align: right;\">\n",
       "      <th></th>\n",
       "      <th>Stage</th>\n",
       "      <th>2018</th>\n",
       "      <th>2019</th>\n",
       "      <th>2020</th>\n",
       "      <th>2021</th>\n",
       "    </tr>\n",
       "  </thead>\n",
       "  <tbody>\n",
       "    <tr>\n",
       "      <th>0</th>\n",
       "      <td>W</td>\n",
       "      <td>0.0</td>\n",
       "      <td>2.0</td>\n",
       "      <td>1.0</td>\n",
       "      <td>0.0</td>\n",
       "    </tr>\n",
       "    <tr>\n",
       "      <th>1</th>\n",
       "      <td>F</td>\n",
       "      <td>1.0</td>\n",
       "      <td>4.0</td>\n",
       "      <td>1.0</td>\n",
       "      <td>1.0</td>\n",
       "    </tr>\n",
       "    <tr>\n",
       "      <th>2</th>\n",
       "      <td>SF</td>\n",
       "      <td>2.0</td>\n",
       "      <td>1.0</td>\n",
       "      <td>0.0</td>\n",
       "      <td>1.0</td>\n",
       "    </tr>\n",
       "    <tr>\n",
       "      <th>3</th>\n",
       "      <td>QF</td>\n",
       "      <td>6.0</td>\n",
       "      <td>3.0</td>\n",
       "      <td>1.0</td>\n",
       "      <td>2.0</td>\n",
       "    </tr>\n",
       "    <tr>\n",
       "      <th>4</th>\n",
       "      <td>R3</td>\n",
       "      <td>1.0</td>\n",
       "      <td>1.0</td>\n",
       "      <td>0.0</td>\n",
       "      <td>0.0</td>\n",
       "    </tr>\n",
       "    <tr>\n",
       "      <th>5</th>\n",
       "      <td>R2</td>\n",
       "      <td>3.0</td>\n",
       "      <td>5.0</td>\n",
       "      <td>0.0</td>\n",
       "      <td>2.0</td>\n",
       "    </tr>\n",
       "    <tr>\n",
       "      <th>6</th>\n",
       "      <td>R1</td>\n",
       "      <td>5.0</td>\n",
       "      <td>4.0</td>\n",
       "      <td>2.0</td>\n",
       "      <td>2.0</td>\n",
       "    </tr>\n",
       "    <tr>\n",
       "      <th>7</th>\n",
       "      <td>NP</td>\n",
       "      <td>12.0</td>\n",
       "      <td>9.0</td>\n",
       "      <td>25.0</td>\n",
       "      <td>21.0</td>\n",
       "    </tr>\n",
       "  </tbody>\n",
       "</table>\n",
       "</div>"
      ],
      "text/plain": [
       "  Stage  2018  2019  2020  2021\n",
       "0     W   0.0   2.0   1.0   0.0\n",
       "1     F   1.0   4.0   1.0   1.0\n",
       "2    SF   2.0   1.0   0.0   1.0\n",
       "3    QF   6.0   3.0   1.0   2.0\n",
       "4    R3   1.0   1.0   0.0   0.0\n",
       "5    R2   3.0   5.0   0.0   2.0\n",
       "6    R1   5.0   4.0   2.0   2.0\n",
       "7    NP  12.0   9.0  25.0  21.0"
      ]
     },
     "execution_count": 8,
     "metadata": {},
     "output_type": "execute_result"
    }
   ],
   "source": [
    "order = [ 'W', 'F', 'SF', 'QF', 'R3', 'R2', 'R1','NP']\n",
    "count = count.reindex(order).reset_index()\n",
    "count.rename(columns={'index':'Stage'},inplace=True)\n",
    "count"
   ]
  },
  {
   "cell_type": "markdown",
   "metadata": {},
   "source": [
    "Now we are going to plot the performance data to a bar plot."
   ]
  },
  {
   "cell_type": "code",
   "execution_count": 9,
   "metadata": {
    "colab": {
     "base_uri": "https://localhost:8080/",
     "height": 606
    },
    "id": "nxtvUwYBtqm8",
    "outputId": "4ebed2c7-d92f-4a98-c510-1cdfa1f4c7a8"
   },
   "outputs": [
    {
     "data": {
      "image/png": "[encoded data removed]",
      "text/plain": [
       "<Figure size 2160x720 with 1 Axes>"
      ]
     },
     "metadata": {
      "needs_background": "light"
     },
     "output_type": "display_data"
    }
   ],
   "source": [
    "fig, ax1 = plt.subplots(figsize=(30, 10))\n",
    "tidy = count.melt(id_vars='Stage').rename(columns=str.title)\n",
    "tidy.rename(columns={'Variable':'Year'},inplace=True)\n",
    "sns.barplot(y='Stage', x='Value', hue='Year', data=tidy, ax=ax1, palette=[\n",
    "                 '#CFCFCF','#9B9B9B','#717171','#6CC4A1'])\n",
    "sns.set_context('paper')\n",
    "plt.xlabel('Tournaments')\n",
    "sns.despine(fig)"
   ]
  },
  {
   "cell_type": "markdown",
   "metadata": {},
   "source": [
    "Based on the plot above, we can see that Praveen/Melati got poorer results in 2021, with no W and less F compared to years before. But since the COVID outbreak, they did not participate in quite a number of tournaments, this also could result in less number of medal they got.\n",
    "\n",
    "Let's dig the matches data deeper."
   ]
  },
  {
   "cell_type": "code",
   "execution_count": 10,
   "metadata": {
    "id": "XZ8JyxG4I3PW"
   },
   "outputs": [],
   "source": [
    "url = 'https://badmintonstatistics.net/Player?playerid=132046079&year=-1&level=all&category=%&round=%&country=%&partner=132040261&rank=%&hand=%&height=%&qualification=%&startdate=2018-01-01&enddate=2021-12-31'\n",
    "\n",
    "matches = pd.read_html(url)[1]\n"
   ]
  },
  {
   "cell_type": "code",
   "execution_count": 11,
   "metadata": {
    "colab": {
     "base_uri": "https://localhost:8080/",
     "height": 424
    },
    "id": "u6FNcxbK-aID",
    "outputId": "b9e7c76b-fc33-4426-85e0-60e88abdc754"
   },
   "outputs": [
    {
     "data": {
      "text/html": [
       "<div>\n",
       "<style scoped>\n",
       "    .dataframe tbody tr th:only-of-type {\n",
       "        vertical-align: middle;\n",
       "    }\n",
       "\n",
       "    .dataframe tbody tr th {\n",
       "        vertical-align: top;\n",
       "    }\n",
       "\n",
       "    .dataframe thead th {\n",
       "        text-align: right;\n",
       "    }\n",
       "</style>\n",
       "<table border=\"1\" class=\"dataframe\">\n",
       "  <thead>\n",
       "    <tr style=\"text-align: right;\">\n",
       "      <th></th>\n",
       "      <th>Category</th>\n",
       "      <th>Round</th>\n",
       "      <th>Rank*</th>\n",
       "      <th>Player</th>\n",
       "      <th>Score</th>\n",
       "      <th>Player.1</th>\n",
       "      <th>Rank*.1</th>\n",
       "      <th>Duration</th>\n",
       "    </tr>\n",
       "  </thead>\n",
       "  <tbody>\n",
       "    <tr>\n",
       "      <th>0</th>\n",
       "      <td>World Championships 2021 12/12/2021-19/12/2021</td>\n",
       "      <td>World Championships 2021 12/12/2021-19/12/2021</td>\n",
       "      <td>World Championships 2021 12/12/2021-19/12/2021</td>\n",
       "      <td>World Championships 2021 12/12/2021-19/12/2021</td>\n",
       "      <td>World Championships 2021 12/12/2021-19/12/2021</td>\n",
       "      <td>World Championships 2021 12/12/2021-19/12/2021</td>\n",
       "      <td>World Championships 2021 12/12/2021-19/12/2021</td>\n",
       "      <td>World Championships 2021 12/12/2021-19/12/2021</td>\n",
       "    </tr>\n",
       "    <tr>\n",
       "      <th>1</th>\n",
       "      <td>XD</td>\n",
       "      <td>Round 2</td>\n",
       "      <td>23</td>\n",
       "      <td>HOO Pang Ron / CHEAH Yee See</td>\n",
       "      <td>W.O.</td>\n",
       "      <td>Praveen JORDAN / Melati Daeva OKTAVIANTI</td>\n",
       "      <td>5</td>\n",
       "      <td>0</td>\n",
       "    </tr>\n",
       "    <tr>\n",
       "      <th>2</th>\n",
       "      <td>Season Finals 2021 1/12/2021-5/12/2021</td>\n",
       "      <td>Season Finals 2021 1/12/2021-5/12/2021</td>\n",
       "      <td>Season Finals 2021 1/12/2021-5/12/2021</td>\n",
       "      <td>Season Finals 2021 1/12/2021-5/12/2021</td>\n",
       "      <td>Season Finals 2021 1/12/2021-5/12/2021</td>\n",
       "      <td>Season Finals 2021 1/12/2021-5/12/2021</td>\n",
       "      <td>Season Finals 2021 1/12/2021-5/12/2021</td>\n",
       "      <td>Season Finals 2021 1/12/2021-5/12/2021</td>\n",
       "    </tr>\n",
       "    <tr>\n",
       "      <th>3</th>\n",
       "      <td>XD</td>\n",
       "      <td>Group</td>\n",
       "      <td>2</td>\n",
       "      <td>Dechapol PUAVARANUKROH / Sapsiree TAERATTANACHAI</td>\n",
       "      <td>21-14 / 10-21 / 21-11</td>\n",
       "      <td>Praveen JORDAN / Melati Daeva OKTAVIANTI</td>\n",
       "      <td>5</td>\n",
       "      <td>52</td>\n",
       "    </tr>\n",
       "    <tr>\n",
       "      <th>4</th>\n",
       "      <td>XD</td>\n",
       "      <td>Group</td>\n",
       "      <td>5</td>\n",
       "      <td>Praveen JORDAN / Melati Daeva OKTAVIANTI</td>\n",
       "      <td>21-16 / 21-13</td>\n",
       "      <td>Marcus ELLIS / Lauren SMITH</td>\n",
       "      <td>8</td>\n",
       "      <td>33</td>\n",
       "    </tr>\n",
       "  </tbody>\n",
       "</table>\n",
       "</div>"
      ],
      "text/plain": [
       "                                         Category  \\\n",
       "0  World Championships 2021 12/12/2021-19/12/2021   \n",
       "1                                              XD   \n",
       "2          Season Finals 2021 1/12/2021-5/12/2021   \n",
       "3                                              XD   \n",
       "4                                              XD   \n",
       "\n",
       "                                            Round  \\\n",
       "0  World Championships 2021 12/12/2021-19/12/2021   \n",
       "1                                         Round 2   \n",
       "2          Season Finals 2021 1/12/2021-5/12/2021   \n",
       "3                                           Group   \n",
       "4                                           Group   \n",
       "\n",
       "                                            Rank*  \\\n",
       "0  World Championships 2021 12/12/2021-19/12/2021   \n",
       "1                                              23   \n",
       "2          Season Finals 2021 1/12/2021-5/12/2021   \n",
       "3                                               2   \n",
       "4                                               5   \n",
       "\n",
       "                                             Player  \\\n",
       "0    World Championships 2021 12/12/2021-19/12/2021   \n",
       "1                      HOO Pang Ron / CHEAH Yee See   \n",
       "2            Season Finals 2021 1/12/2021-5/12/2021   \n",
       "3  Dechapol PUAVARANUKROH / Sapsiree TAERATTANACHAI   \n",
       "4          Praveen JORDAN / Melati Daeva OKTAVIANTI   \n",
       "\n",
       "                                            Score  \\\n",
       "0  World Championships 2021 12/12/2021-19/12/2021   \n",
       "1                                            W.O.   \n",
       "2          Season Finals 2021 1/12/2021-5/12/2021   \n",
       "3                           21-14 / 10-21 / 21-11   \n",
       "4                                   21-16 / 21-13   \n",
       "\n",
       "                                         Player.1  \\\n",
       "0  World Championships 2021 12/12/2021-19/12/2021   \n",
       "1        Praveen JORDAN / Melati Daeva OKTAVIANTI   \n",
       "2          Season Finals 2021 1/12/2021-5/12/2021   \n",
       "3        Praveen JORDAN / Melati Daeva OKTAVIANTI   \n",
       "4                     Marcus ELLIS / Lauren SMITH   \n",
       "\n",
       "                                          Rank*.1  \\\n",
       "0  World Championships 2021 12/12/2021-19/12/2021   \n",
       "1                                               5   \n",
       "2          Season Finals 2021 1/12/2021-5/12/2021   \n",
       "3                                               5   \n",
       "4                                               8   \n",
       "\n",
       "                                         Duration  \n",
       "0  World Championships 2021 12/12/2021-19/12/2021  \n",
       "1                                               0  \n",
       "2          Season Finals 2021 1/12/2021-5/12/2021  \n",
       "3                                              52  \n",
       "4                                              33  "
      ]
     },
     "execution_count": 11,
     "metadata": {},
     "output_type": "execute_result"
    }
   ],
   "source": [
    "matches.head(5)"
   ]
  },
  {
   "cell_type": "markdown",
   "metadata": {},
   "source": [
    "We are going to clean the data and make it into a more readable format."
   ]
  },
  {
   "cell_type": "code",
   "execution_count": 12,
   "metadata": {
    "id": "f5A9lmopKF7t"
   },
   "outputs": [],
   "source": [
    "import numpy as np\n",
    "matches['Tournament'] = np.where(np.logical_or(matches['Category']=='XD', matches['Category']=='XD (qual)'), np.nan, matches['Category'])\n",
    "matches['Tournament'].fillna(method='ffill',inplace=True)\n",
    "matches = matches[(matches['Category']=='XD')|(matches['Category']=='XD (qual)')]\n",
    "matches[['Tournament Name','Year','Date']] = matches['Tournament'].str.extract('([\\w\\s]+)\\s+(\\d{4})[a-zA-Z\\s\\(\\)]+([\\d\\/\\-]+)')\n",
    "matches[matches.isna().any(axis=1)]\n",
    "matches = matches.drop(columns=['Tournament','Category'])"
   ]
  },
  {
   "cell_type": "code",
   "execution_count": 13,
   "metadata": {},
   "outputs": [
    {
     "data": {
      "text/html": [
       "<div>\n",
       "<style scoped>\n",
       "    .dataframe tbody tr th:only-of-type {\n",
       "        vertical-align: middle;\n",
       "    }\n",
       "\n",
       "    .dataframe tbody tr th {\n",
       "        vertical-align: top;\n",
       "    }\n",
       "\n",
       "    .dataframe thead th {\n",
       "        text-align: right;\n",
       "    }\n",
       "</style>\n",
       "<table border=\"1\" class=\"dataframe\">\n",
       "  <thead>\n",
       "    <tr style=\"text-align: right;\">\n",
       "      <th></th>\n",
       "      <th>Round</th>\n",
       "      <th>Rank*</th>\n",
       "      <th>Player</th>\n",
       "      <th>Score</th>\n",
       "      <th>Player.1</th>\n",
       "      <th>Rank*.1</th>\n",
       "      <th>Duration</th>\n",
       "      <th>Tournament Name</th>\n",
       "      <th>Year</th>\n",
       "      <th>Date</th>\n",
       "    </tr>\n",
       "  </thead>\n",
       "  <tbody>\n",
       "    <tr>\n",
       "      <th>1</th>\n",
       "      <td>Round 2</td>\n",
       "      <td>23</td>\n",
       "      <td>HOO Pang Ron / CHEAH Yee See</td>\n",
       "      <td>W.O.</td>\n",
       "      <td>Praveen JORDAN / Melati Daeva OKTAVIANTI</td>\n",
       "      <td>5</td>\n",
       "      <td>0</td>\n",
       "      <td>World Championships</td>\n",
       "      <td>2021</td>\n",
       "      <td>12/12/2021-19/12/2021</td>\n",
       "    </tr>\n",
       "    <tr>\n",
       "      <th>3</th>\n",
       "      <td>Group</td>\n",
       "      <td>2</td>\n",
       "      <td>Dechapol PUAVARANUKROH / Sapsiree TAERATTANACHAI</td>\n",
       "      <td>21-14 / 10-21 / 21-11</td>\n",
       "      <td>Praveen JORDAN / Melati Daeva OKTAVIANTI</td>\n",
       "      <td>5</td>\n",
       "      <td>52</td>\n",
       "      <td>Season Finals</td>\n",
       "      <td>2021</td>\n",
       "      <td>1/12/2021-5/12/2021</td>\n",
       "    </tr>\n",
       "    <tr>\n",
       "      <th>4</th>\n",
       "      <td>Group</td>\n",
       "      <td>5</td>\n",
       "      <td>Praveen JORDAN / Melati Daeva OKTAVIANTI</td>\n",
       "      <td>21-16 / 21-13</td>\n",
       "      <td>Marcus ELLIS / Lauren SMITH</td>\n",
       "      <td>8</td>\n",
       "      <td>33</td>\n",
       "      <td>Season Finals</td>\n",
       "      <td>2021</td>\n",
       "      <td>1/12/2021-5/12/2021</td>\n",
       "    </tr>\n",
       "    <tr>\n",
       "      <th>5</th>\n",
       "      <td>Group</td>\n",
       "      <td>7</td>\n",
       "      <td>TANG Chun Man / TSE Ying Suet</td>\n",
       "      <td>21-11 / 21-15</td>\n",
       "      <td>Praveen JORDAN / Melati Daeva OKTAVIANTI</td>\n",
       "      <td>5</td>\n",
       "      <td>30</td>\n",
       "      <td>Season Finals</td>\n",
       "      <td>2021</td>\n",
       "      <td>1/12/2021-5/12/2021</td>\n",
       "    </tr>\n",
       "    <tr>\n",
       "      <th>7</th>\n",
       "      <td>Round 1</td>\n",
       "      <td>5</td>\n",
       "      <td>Praveen JORDAN / Melati Daeva OKTAVIANTI</td>\n",
       "      <td>1-0 Ret.</td>\n",
       "      <td>Yujiro NISHIKAWA / Saori OZAKI</td>\n",
       "      <td>104</td>\n",
       "      <td>0</td>\n",
       "      <td>Indonesia Open</td>\n",
       "      <td>2021</td>\n",
       "      <td>23/11/2021-28/11/2021</td>\n",
       "    </tr>\n",
       "  </tbody>\n",
       "</table>\n",
       "</div>"
      ],
      "text/plain": [
       "     Round Rank*                                            Player  \\\n",
       "1  Round 2    23                      HOO Pang Ron / CHEAH Yee See   \n",
       "3    Group     2  Dechapol PUAVARANUKROH / Sapsiree TAERATTANACHAI   \n",
       "4    Group     5          Praveen JORDAN / Melati Daeva OKTAVIANTI   \n",
       "5    Group     7                     TANG Chun Man / TSE Ying Suet   \n",
       "7  Round 1     5          Praveen JORDAN / Melati Daeva OKTAVIANTI   \n",
       "\n",
       "                   Score                                  Player.1 Rank*.1  \\\n",
       "1                   W.O.  Praveen JORDAN / Melati Daeva OKTAVIANTI       5   \n",
       "3  21-14 / 10-21 / 21-11  Praveen JORDAN / Melati Daeva OKTAVIANTI       5   \n",
       "4          21-16 / 21-13               Marcus ELLIS / Lauren SMITH       8   \n",
       "5          21-11 / 21-15  Praveen JORDAN / Melati Daeva OKTAVIANTI       5   \n",
       "7               1-0 Ret.            Yujiro NISHIKAWA / Saori OZAKI     104   \n",
       "\n",
       "  Duration      Tournament Name  Year                   Date  \n",
       "1        0  World Championships  2021  12/12/2021-19/12/2021  \n",
       "3       52        Season Finals  2021    1/12/2021-5/12/2021  \n",
       "4       33        Season Finals  2021    1/12/2021-5/12/2021  \n",
       "5       30        Season Finals  2021    1/12/2021-5/12/2021  \n",
       "7        0       Indonesia Open  2021  23/11/2021-28/11/2021  "
      ]
     },
     "execution_count": 13,
     "metadata": {},
     "output_type": "execute_result"
    }
   ],
   "source": [
    "matches.head(5)"
   ]
  },
  {
   "cell_type": "markdown",
   "metadata": {},
   "source": [
    "Looks much better.\n",
    "\n",
    "Now we are going to create a separated dataframe which only contains the matches data without W.O. As walkover means the match never happened in the first place, whether they win or lose does not reflect their performances."
   ]
  },
  {
   "cell_type": "code",
   "execution_count": 14,
   "metadata": {
    "colab": {
     "base_uri": "https://localhost:8080/",
     "height": 424
    },
    "id": "xa1vVu9Y-n2T",
    "outputId": "45134a3b-7eca-463c-eb90-ca24a1672326"
   },
   "outputs": [
    {
     "data": {
      "text/html": [
       "<div>\n",
       "<style scoped>\n",
       "    .dataframe tbody tr th:only-of-type {\n",
       "        vertical-align: middle;\n",
       "    }\n",
       "\n",
       "    .dataframe tbody tr th {\n",
       "        vertical-align: top;\n",
       "    }\n",
       "\n",
       "    .dataframe thead th {\n",
       "        text-align: right;\n",
       "    }\n",
       "</style>\n",
       "<table border=\"1\" class=\"dataframe\">\n",
       "  <thead>\n",
       "    <tr style=\"text-align: right;\">\n",
       "      <th></th>\n",
       "      <th>Round</th>\n",
       "      <th>Rank*</th>\n",
       "      <th>Player</th>\n",
       "      <th>Score</th>\n",
       "      <th>Player.1</th>\n",
       "      <th>Rank*.1</th>\n",
       "      <th>Duration</th>\n",
       "      <th>Tournament Name</th>\n",
       "      <th>Year</th>\n",
       "      <th>Date</th>\n",
       "    </tr>\n",
       "  </thead>\n",
       "  <tbody>\n",
       "    <tr>\n",
       "      <th>3</th>\n",
       "      <td>Group</td>\n",
       "      <td>2</td>\n",
       "      <td>Dechapol PUAVARANUKROH / Sapsiree TAERATTANACHAI</td>\n",
       "      <td>21-14 / 10-21 / 21-11</td>\n",
       "      <td>Praveen JORDAN / Melati Daeva OKTAVIANTI</td>\n",
       "      <td>5</td>\n",
       "      <td>52</td>\n",
       "      <td>Season Finals</td>\n",
       "      <td>2021</td>\n",
       "      <td>1/12/2021-5/12/2021</td>\n",
       "    </tr>\n",
       "    <tr>\n",
       "      <th>4</th>\n",
       "      <td>Group</td>\n",
       "      <td>5</td>\n",
       "      <td>Praveen JORDAN / Melati Daeva OKTAVIANTI</td>\n",
       "      <td>21-16 / 21-13</td>\n",
       "      <td>Marcus ELLIS / Lauren SMITH</td>\n",
       "      <td>8</td>\n",
       "      <td>33</td>\n",
       "      <td>Season Finals</td>\n",
       "      <td>2021</td>\n",
       "      <td>1/12/2021-5/12/2021</td>\n",
       "    </tr>\n",
       "    <tr>\n",
       "      <th>5</th>\n",
       "      <td>Group</td>\n",
       "      <td>7</td>\n",
       "      <td>TANG Chun Man / TSE Ying Suet</td>\n",
       "      <td>21-11 / 21-15</td>\n",
       "      <td>Praveen JORDAN / Melati Daeva OKTAVIANTI</td>\n",
       "      <td>5</td>\n",
       "      <td>30</td>\n",
       "      <td>Season Finals</td>\n",
       "      <td>2021</td>\n",
       "      <td>1/12/2021-5/12/2021</td>\n",
       "    </tr>\n",
       "    <tr>\n",
       "      <th>7</th>\n",
       "      <td>Round 1</td>\n",
       "      <td>5</td>\n",
       "      <td>Praveen JORDAN / Melati Daeva OKTAVIANTI</td>\n",
       "      <td>1-0 Ret.</td>\n",
       "      <td>Yujiro NISHIKAWA / Saori OZAKI</td>\n",
       "      <td>104</td>\n",
       "      <td>0</td>\n",
       "      <td>Indonesia Open</td>\n",
       "      <td>2021</td>\n",
       "      <td>23/11/2021-28/11/2021</td>\n",
       "    </tr>\n",
       "    <tr>\n",
       "      <th>8</th>\n",
       "      <td>Round 2</td>\n",
       "      <td>15</td>\n",
       "      <td>Mathias CHRISTIANSEN / Alexandra BØJE</td>\n",
       "      <td>23-21 / 21-14</td>\n",
       "      <td>Praveen JORDAN / Melati Daeva OKTAVIANTI</td>\n",
       "      <td>5</td>\n",
       "      <td>44</td>\n",
       "      <td>Indonesia Open</td>\n",
       "      <td>2021</td>\n",
       "      <td>23/11/2021-28/11/2021</td>\n",
       "    </tr>\n",
       "  </tbody>\n",
       "</table>\n",
       "</div>"
      ],
      "text/plain": [
       "     Round Rank*                                            Player  \\\n",
       "3    Group     2  Dechapol PUAVARANUKROH / Sapsiree TAERATTANACHAI   \n",
       "4    Group     5          Praveen JORDAN / Melati Daeva OKTAVIANTI   \n",
       "5    Group     7                     TANG Chun Man / TSE Ying Suet   \n",
       "7  Round 1     5          Praveen JORDAN / Melati Daeva OKTAVIANTI   \n",
       "8  Round 2    15             Mathias CHRISTIANSEN / Alexandra BØJE   \n",
       "\n",
       "                   Score                                  Player.1 Rank*.1  \\\n",
       "3  21-14 / 10-21 / 21-11  Praveen JORDAN / Melati Daeva OKTAVIANTI       5   \n",
       "4          21-16 / 21-13               Marcus ELLIS / Lauren SMITH       8   \n",
       "5          21-11 / 21-15  Praveen JORDAN / Melati Daeva OKTAVIANTI       5   \n",
       "7               1-0 Ret.            Yujiro NISHIKAWA / Saori OZAKI     104   \n",
       "8          23-21 / 21-14  Praveen JORDAN / Melati Daeva OKTAVIANTI       5   \n",
       "\n",
       "  Duration Tournament Name  Year                   Date  \n",
       "3       52   Season Finals  2021    1/12/2021-5/12/2021  \n",
       "4       33   Season Finals  2021    1/12/2021-5/12/2021  \n",
       "5       30   Season Finals  2021    1/12/2021-5/12/2021  \n",
       "7        0  Indonesia Open  2021  23/11/2021-28/11/2021  \n",
       "8       44  Indonesia Open  2021  23/11/2021-28/11/2021  "
      ]
     },
     "execution_count": 14,
     "metadata": {},
     "output_type": "execute_result"
    }
   ],
   "source": [
    "matchesnowo = matches[~(matches['Score']=='W.O.')]\n",
    "matchesnowo.head(5)"
   ]
  },
  {
   "cell_type": "markdown",
   "metadata": {},
   "source": [
    "Now we are going to compare their win/lose each year and calculate the winning rate, while excluding the W.O. matches."
   ]
  },
  {
   "cell_type": "code",
   "execution_count": 15,
   "metadata": {
    "id": "9pPsTfnOAQTm"
   },
   "outputs": [],
   "source": [
    "win = {}\n",
    "lose = {}\n",
    "years = [2018, 2019, 2020, 2021]\n",
    "for year in years:\n",
    "  match = matchesnowo[matchesnowo['Year']==str(year)]\n",
    "  win[year] = match[match['Player']=='Praveen JORDAN / Melati Daeva OKTAVIANTI'].shape[0]\n",
    "  lose[year] = match[match['Player.1']=='Praveen JORDAN / Melati Daeva OKTAVIANTI'].shape[0]"
   ]
  },
  {
   "cell_type": "code",
   "execution_count": 16,
   "metadata": {
    "colab": {
     "base_uri": "https://localhost:8080/",
     "height": 175
    },
    "id": "U64-zoFSAiGR",
    "outputId": "7b58e799-4cb2-4b90-e6d5-9f89fc65b366"
   },
   "outputs": [
    {
     "data": {
      "text/html": [
       "<style type=\"text/css\">\n",
       "</style>\n",
       "<table id=\"T_6cb5c\">\n",
       "  <thead>\n",
       "    <tr>\n",
       "      <th class=\"blank level0\" >&nbsp;</th>\n",
       "      <th id=\"T_6cb5c_level0_col0\" class=\"col_heading level0 col0\" >Win</th>\n",
       "      <th id=\"T_6cb5c_level0_col1\" class=\"col_heading level0 col1\" >Lose</th>\n",
       "      <th id=\"T_6cb5c_level0_col2\" class=\"col_heading level0 col2\" >WinRate</th>\n",
       "    </tr>\n",
       "  </thead>\n",
       "  <tbody>\n",
       "    <tr>\n",
       "      <th id=\"T_6cb5c_level0_row0\" class=\"row_heading level0 row0\" >2018</th>\n",
       "      <td id=\"T_6cb5c_row0_col0\" class=\"data row0 col0\" >25</td>\n",
       "      <td id=\"T_6cb5c_row0_col1\" class=\"data row0 col1\" >17</td>\n",
       "      <td id=\"T_6cb5c_row0_col2\" class=\"data row0 col2\" >59.52%</td>\n",
       "    </tr>\n",
       "    <tr>\n",
       "      <th id=\"T_6cb5c_level0_row1\" class=\"row_heading level0 row1\" >2019</th>\n",
       "      <td id=\"T_6cb5c_row1_col0\" class=\"data row1 col0\" >45</td>\n",
       "      <td id=\"T_6cb5c_row1_col1\" class=\"data row1 col1\" >22</td>\n",
       "      <td id=\"T_6cb5c_row1_col2\" class=\"data row1 col2\" >67.16%</td>\n",
       "    </tr>\n",
       "    <tr>\n",
       "      <th id=\"T_6cb5c_level0_row2\" class=\"row_heading level0 row2\" >2020</th>\n",
       "      <td id=\"T_6cb5c_row2_col0\" class=\"data row2 col0\" >6</td>\n",
       "      <td id=\"T_6cb5c_row2_col1\" class=\"data row2 col1\" >2</td>\n",
       "      <td id=\"T_6cb5c_row2_col2\" class=\"data row2 col2\" >75.00%</td>\n",
       "    </tr>\n",
       "    <tr>\n",
       "      <th id=\"T_6cb5c_level0_row3\" class=\"row_heading level0 row3\" >2021</th>\n",
       "      <td id=\"T_6cb5c_row3_col0\" class=\"data row3 col0\" >20</td>\n",
       "      <td id=\"T_6cb5c_row3_col1\" class=\"data row3 col1\" >14</td>\n",
       "      <td id=\"T_6cb5c_row3_col2\" class=\"data row3 col2\" >58.82%</td>\n",
       "    </tr>\n",
       "  </tbody>\n",
       "</table>\n"
      ],
      "text/plain": [
       "<pandas.io.formats.style.Styler at 0x2311e3f1610>"
      ]
     },
     "execution_count": 16,
     "metadata": {},
     "output_type": "execute_result"
    }
   ],
   "source": [
    "wnl = pd.Series(win).to_frame('Win').join(pd.Series(lose).to_frame('Lose'))\n",
    "wnl['WinRate'] = wnl['Win']/(wnl['Win']+wnl['Lose'])\n",
    "wnl.style.format({'WinRate': \"{:.2%}\"})"
   ]
  },
  {
   "cell_type": "code",
   "execution_count": 17,
   "metadata": {
    "colab": {
     "base_uri": "https://localhost:8080/",
     "height": 175
    },
    "id": "PhdM58L9PfFW",
    "outputId": "85e07b20-8930-467f-95ec-9468d583e7d3"
   },
   "outputs": [],
   "source": [
    "wnl.reset_index(inplace=True)\n",
    "wnl.rename(columns={'index':'Year'},inplace=True)\n",
    "wnl['Year'] = wnl['Year'].astype(str)"
   ]
  },
  {
   "cell_type": "code",
   "execution_count": 18,
   "metadata": {
    "colab": {
     "base_uri": "https://localhost:8080/",
     "height": 297
    },
    "id": "p2ktajQ_A1pa",
    "outputId": "4491eb7e-bfb2-4b25-c8d7-629f030fc33f"
   },
   "outputs": [
    {
     "name": "stderr",
     "output_type": "stream",
     "text": [
      "C:\\Users\\Risa\\AppData\\Local\\Temp\\ipykernel_2848\\4144961286.py:3: UserWarning: FixedFormatter should only be used together with FixedLocator\n",
      "  plt.gca().set_yticklabels([f'{x:.0%}' for x in plt.gca().get_yticks()])\n"
     ]
    },
    {
     "data": {
      "image/png": "[encoded data removed]",
      "text/plain": [
       "<Figure size 432x288 with 1 Axes>"
      ]
     },
     "metadata": {
      "needs_background": "light"
     },
     "output_type": "display_data"
    }
   ],
   "source": [
    "plt.ylim(0,1)\n",
    "sns.pointplot(data=wnl,x='Year',y='WinRate')\n",
    "plt.gca().set_yticklabels([f'{x:.0%}' for x in plt.gca().get_yticks()]) \n",
    "plt.tight_layout()\n",
    "plt.show()"
   ]
  },
  {
   "cell_type": "markdown",
   "metadata": {
    "id": "kJjRJMtfA5xM"
   },
   "source": [
    "The performances in 2021, winning-rate wise is in fact worse than any other year. But we have to keep in mind that there are a lot of factors why the athletes fail to meet expectations during the match, like their own health conditions, the hall, and so on. And it is actually normal for athletes to have ups and downs during their career."
   ]
  },
  {
   "cell_type": "markdown",
   "metadata": {
    "id": "Fp7qB3NDPzok"
   },
   "source": [
    "Let's focus on 2021 matches compared to matches before 2021. We are going to break down the opponents to several categories and count the win rate of each categories respectively."
   ]
  },
  {
   "cell_type": "code",
   "execution_count": 19,
   "metadata": {
    "colab": {
     "base_uri": "https://localhost:8080/"
    },
    "id": "uOeEuyy6Tvvn",
    "outputId": "0558219c-c825-423f-e45e-35beeee3159d"
   },
   "outputs": [
    {
     "data": {
      "text/plain": [
       "Round              object\n",
       "Rank*              object\n",
       "Player             object\n",
       "Score              object\n",
       "Player.1           object\n",
       "Rank*.1            object\n",
       "Duration           object\n",
       "Tournament Name    object\n",
       "Year               object\n",
       "Date               object\n",
       "dtype: object"
      ]
     },
     "execution_count": 19,
     "metadata": {},
     "output_type": "execute_result"
    }
   ],
   "source": [
    "matchesnowo.dtypes"
   ]
  },
  {
   "cell_type": "code",
   "execution_count": 20,
   "metadata": {
    "colab": {
     "base_uri": "https://localhost:8080/"
    },
    "id": "eJ-amspWUfnq",
    "outputId": "cd5bf0fc-8688-4ae7-a8bd-8829f5b37713"
   },
   "outputs": [
    {
     "name": "stderr",
     "output_type": "stream",
     "text": [
      "C:\\Users\\Risa\\AppData\\Local\\Temp\\ipykernel_2848\\1327081448.py:1: SettingWithCopyWarning: \n",
      "A value is trying to be set on a copy of a slice from a DataFrame.\n",
      "Try using .loc[row_indexer,col_indexer] = value instead\n",
      "\n",
      "See the caveats in the documentation: https://pandas.pydata.org/pandas-docs/stable/user_guide/indexing.html#returning-a-view-versus-a-copy\n",
      "  matchesnowo['Period']=np.where(matchesnowo['Year']=='2021','2021','Before')\n",
      "C:\\Users\\Risa\\AppData\\Local\\Temp\\ipykernel_2848\\1327081448.py:2: SettingWithCopyWarning: \n",
      "A value is trying to be set on a copy of a slice from a DataFrame.\n",
      "Try using .loc[row_indexer,col_indexer] = value instead\n",
      "\n",
      "See the caveats in the documentation: https://pandas.pydata.org/pandas-docs/stable/user_guide/indexing.html#returning-a-view-versus-a-copy\n",
      "  matchesnowo['Result']=np.where(matchesnowo['Player']=='Praveen JORDAN / Melati Daeva OKTAVIANTI','Win', 'Lose')\n",
      "C:\\Users\\Risa\\AppData\\Local\\Temp\\ipykernel_2848\\1327081448.py:8: SettingWithCopyWarning: \n",
      "A value is trying to be set on a copy of a slice from a DataFrame.\n",
      "Try using .loc[row_indexer,col_indexer] = value instead\n",
      "\n",
      "See the caveats in the documentation: https://pandas.pydata.org/pandas-docs/stable/user_guide/indexing.html#returning-a-view-versus-a-copy\n",
      "  matchesnowo['Rank*.1'] = matchesnowo['Rank*.1'].astype(int)\n",
      "C:\\Users\\Risa\\AppData\\Local\\Temp\\ipykernel_2848\\1327081448.py:9: SettingWithCopyWarning: \n",
      "A value is trying to be set on a copy of a slice from a DataFrame.\n",
      "Try using .loc[row_indexer,col_indexer] = value instead\n",
      "\n",
      "See the caveats in the documentation: https://pandas.pydata.org/pandas-docs/stable/user_guide/indexing.html#returning-a-view-versus-a-copy\n",
      "  matchesnowo['Rank*'] = matchesnowo['Rank*'].astype(int)\n",
      "C:\\Users\\Risa\\AppData\\Local\\Temp\\ipykernel_2848\\1327081448.py:11: SettingWithCopyWarning: \n",
      "A value is trying to be set on a copy of a slice from a DataFrame.\n",
      "Try using .loc[row_indexer,col_indexer] = value instead\n",
      "\n",
      "See the caveats in the documentation: https://pandas.pydata.org/pandas-docs/stable/user_guide/indexing.html#returning-a-view-versus-a-copy\n",
      "  matchesnowo['RankOp'] = np.where(matchesnowo['Result']=='Win',matchesnowo['Rank*.1'],matchesnowo['Rank*'])\n",
      "C:\\Users\\Risa\\AppData\\Local\\Temp\\ipykernel_2848\\1327081448.py:12: SettingWithCopyWarning: \n",
      "A value is trying to be set on a copy of a slice from a DataFrame.\n",
      "Try using .loc[row_indexer,col_indexer] = value instead\n",
      "\n",
      "See the caveats in the documentation: https://pandas.pydata.org/pandas-docs/stable/user_guide/indexing.html#returning-a-view-versus-a-copy\n",
      "  matchesnowo['Rank'] = pd.cut(matchesnowo['RankOp'], bins=[0,10,32,100,10000], labels=[\"Top 10\", \"Top 32\", \"Top 100\", \"Outside Top 100\"], ordered=True)\n"
     ]
    }
   ],
   "source": [
    "matchesnowo['Period']=np.where(matchesnowo['Year']=='2021','2021','Before')\n",
    "matchesnowo['Result']=np.where(matchesnowo['Player']=='Praveen JORDAN / Melati Daeva OKTAVIANTI','Win', 'Lose')\n",
    "\n",
    "\n",
    "matchesnowo.loc[matchesnowo['Rank*.1'] == '-','Rank*.1'] = 999\n",
    "matchesnowo.loc[matchesnowo['Rank*'] == '-','Rank*'] = 999\n",
    "\n",
    "matchesnowo['Rank*.1'] = matchesnowo['Rank*.1'].astype(int)\n",
    "matchesnowo['Rank*'] = matchesnowo['Rank*'].astype(int)\n",
    "\n",
    "matchesnowo['RankOp'] = np.where(matchesnowo['Result']=='Win',matchesnowo['Rank*.1'],matchesnowo['Rank*'])\n",
    "matchesnowo['Rank'] = pd.cut(matchesnowo['RankOp'], bins=[0,10,32,100,10000], labels=[\"Top 10\", \"Top 32\", \"Top 100\", \"Outside Top 100\"], ordered=True)\n"
   ]
  },
  {
   "cell_type": "code",
   "execution_count": 21,
   "metadata": {
    "colab": {
     "base_uri": "https://localhost:8080/",
     "height": 424
    },
    "id": "ayvMhxiPSNLD",
    "outputId": "0b96e1a8-a1bf-4223-e5ad-7687600d44be"
   },
   "outputs": [
    {
     "data": {
      "text/html": [
       "<div>\n",
       "<style scoped>\n",
       "    .dataframe tbody tr th:only-of-type {\n",
       "        vertical-align: middle;\n",
       "    }\n",
       "\n",
       "    .dataframe tbody tr th {\n",
       "        vertical-align: top;\n",
       "    }\n",
       "\n",
       "    .dataframe thead th {\n",
       "        text-align: right;\n",
       "    }\n",
       "</style>\n",
       "<table border=\"1\" class=\"dataframe\">\n",
       "  <thead>\n",
       "    <tr style=\"text-align: right;\">\n",
       "      <th></th>\n",
       "      <th>Round</th>\n",
       "      <th>Rank*</th>\n",
       "      <th>Player</th>\n",
       "      <th>Score</th>\n",
       "      <th>Player.1</th>\n",
       "      <th>Rank*.1</th>\n",
       "      <th>Duration</th>\n",
       "      <th>Tournament Name</th>\n",
       "      <th>Year</th>\n",
       "      <th>Date</th>\n",
       "      <th>Period</th>\n",
       "      <th>Result</th>\n",
       "      <th>RankOp</th>\n",
       "      <th>Rank</th>\n",
       "    </tr>\n",
       "  </thead>\n",
       "  <tbody>\n",
       "    <tr>\n",
       "      <th>3</th>\n",
       "      <td>Group</td>\n",
       "      <td>2</td>\n",
       "      <td>Dechapol PUAVARANUKROH / Sapsiree TAERATTANACHAI</td>\n",
       "      <td>21-14 / 10-21 / 21-11</td>\n",
       "      <td>Praveen JORDAN / Melati Daeva OKTAVIANTI</td>\n",
       "      <td>5</td>\n",
       "      <td>52</td>\n",
       "      <td>Season Finals</td>\n",
       "      <td>2021</td>\n",
       "      <td>1/12/2021-5/12/2021</td>\n",
       "      <td>2021</td>\n",
       "      <td>Lose</td>\n",
       "      <td>2</td>\n",
       "      <td>Top 10</td>\n",
       "    </tr>\n",
       "    <tr>\n",
       "      <th>4</th>\n",
       "      <td>Group</td>\n",
       "      <td>5</td>\n",
       "      <td>Praveen JORDAN / Melati Daeva OKTAVIANTI</td>\n",
       "      <td>21-16 / 21-13</td>\n",
       "      <td>Marcus ELLIS / Lauren SMITH</td>\n",
       "      <td>8</td>\n",
       "      <td>33</td>\n",
       "      <td>Season Finals</td>\n",
       "      <td>2021</td>\n",
       "      <td>1/12/2021-5/12/2021</td>\n",
       "      <td>2021</td>\n",
       "      <td>Win</td>\n",
       "      <td>8</td>\n",
       "      <td>Top 10</td>\n",
       "    </tr>\n",
       "    <tr>\n",
       "      <th>5</th>\n",
       "      <td>Group</td>\n",
       "      <td>7</td>\n",
       "      <td>TANG Chun Man / TSE Ying Suet</td>\n",
       "      <td>21-11 / 21-15</td>\n",
       "      <td>Praveen JORDAN / Melati Daeva OKTAVIANTI</td>\n",
       "      <td>5</td>\n",
       "      <td>30</td>\n",
       "      <td>Season Finals</td>\n",
       "      <td>2021</td>\n",
       "      <td>1/12/2021-5/12/2021</td>\n",
       "      <td>2021</td>\n",
       "      <td>Lose</td>\n",
       "      <td>7</td>\n",
       "      <td>Top 10</td>\n",
       "    </tr>\n",
       "    <tr>\n",
       "      <th>7</th>\n",
       "      <td>Round 1</td>\n",
       "      <td>5</td>\n",
       "      <td>Praveen JORDAN / Melati Daeva OKTAVIANTI</td>\n",
       "      <td>1-0 Ret.</td>\n",
       "      <td>Yujiro NISHIKAWA / Saori OZAKI</td>\n",
       "      <td>104</td>\n",
       "      <td>0</td>\n",
       "      <td>Indonesia Open</td>\n",
       "      <td>2021</td>\n",
       "      <td>23/11/2021-28/11/2021</td>\n",
       "      <td>2021</td>\n",
       "      <td>Win</td>\n",
       "      <td>104</td>\n",
       "      <td>Outside Top 100</td>\n",
       "    </tr>\n",
       "    <tr>\n",
       "      <th>8</th>\n",
       "      <td>Round 2</td>\n",
       "      <td>15</td>\n",
       "      <td>Mathias CHRISTIANSEN / Alexandra BØJE</td>\n",
       "      <td>23-21 / 21-14</td>\n",
       "      <td>Praveen JORDAN / Melati Daeva OKTAVIANTI</td>\n",
       "      <td>5</td>\n",
       "      <td>44</td>\n",
       "      <td>Indonesia Open</td>\n",
       "      <td>2021</td>\n",
       "      <td>23/11/2021-28/11/2021</td>\n",
       "      <td>2021</td>\n",
       "      <td>Lose</td>\n",
       "      <td>15</td>\n",
       "      <td>Top 32</td>\n",
       "    </tr>\n",
       "  </tbody>\n",
       "</table>\n",
       "</div>"
      ],
      "text/plain": [
       "     Round  Rank*                                            Player  \\\n",
       "3    Group      2  Dechapol PUAVARANUKROH / Sapsiree TAERATTANACHAI   \n",
       "4    Group      5          Praveen JORDAN / Melati Daeva OKTAVIANTI   \n",
       "5    Group      7                     TANG Chun Man / TSE Ying Suet   \n",
       "7  Round 1      5          Praveen JORDAN / Melati Daeva OKTAVIANTI   \n",
       "8  Round 2     15             Mathias CHRISTIANSEN / Alexandra BØJE   \n",
       "\n",
       "                   Score                                  Player.1  Rank*.1  \\\n",
       "3  21-14 / 10-21 / 21-11  Praveen JORDAN / Melati Daeva OKTAVIANTI        5   \n",
       "4          21-16 / 21-13               Marcus ELLIS / Lauren SMITH        8   \n",
       "5          21-11 / 21-15  Praveen JORDAN / Melati Daeva OKTAVIANTI        5   \n",
       "7               1-0 Ret.            Yujiro NISHIKAWA / Saori OZAKI      104   \n",
       "8          23-21 / 21-14  Praveen JORDAN / Melati Daeva OKTAVIANTI        5   \n",
       "\n",
       "  Duration Tournament Name  Year                   Date Period Result  RankOp  \\\n",
       "3       52   Season Finals  2021    1/12/2021-5/12/2021   2021   Lose       2   \n",
       "4       33   Season Finals  2021    1/12/2021-5/12/2021   2021    Win       8   \n",
       "5       30   Season Finals  2021    1/12/2021-5/12/2021   2021   Lose       7   \n",
       "7        0  Indonesia Open  2021  23/11/2021-28/11/2021   2021    Win     104   \n",
       "8       44  Indonesia Open  2021  23/11/2021-28/11/2021   2021   Lose      15   \n",
       "\n",
       "              Rank  \n",
       "3           Top 10  \n",
       "4           Top 10  \n",
       "5           Top 10  \n",
       "7  Outside Top 100  \n",
       "8           Top 32  "
      ]
     },
     "execution_count": 21,
     "metadata": {},
     "output_type": "execute_result"
    }
   ],
   "source": [
    "matchesnowo.head()"
   ]
  },
  {
   "cell_type": "code",
   "execution_count": 22,
   "metadata": {
    "colab": {
     "base_uri": "https://localhost:8080/",
     "height": 206
    },
    "id": "mjQ-8u7Hb1aV",
    "outputId": "caee2d26-0ffc-4d3c-876b-2a8f077dfc47"
   },
   "outputs": [
    {
     "data": {
      "text/html": [
       "<div>\n",
       "<style scoped>\n",
       "    .dataframe tbody tr th:only-of-type {\n",
       "        vertical-align: middle;\n",
       "    }\n",
       "\n",
       "    .dataframe tbody tr th {\n",
       "        vertical-align: top;\n",
       "    }\n",
       "\n",
       "    .dataframe thead tr th {\n",
       "        text-align: left;\n",
       "    }\n",
       "\n",
       "    .dataframe thead tr:last-of-type th {\n",
       "        text-align: right;\n",
       "    }\n",
       "</style>\n",
       "<table border=\"1\" class=\"dataframe\">\n",
       "  <thead>\n",
       "    <tr>\n",
       "      <th>Period</th>\n",
       "      <th colspan=\"2\" halign=\"left\">2021</th>\n",
       "      <th colspan=\"2\" halign=\"left\">Before</th>\n",
       "    </tr>\n",
       "    <tr>\n",
       "      <th>Result</th>\n",
       "      <th>Lose</th>\n",
       "      <th>Win</th>\n",
       "      <th>Lose</th>\n",
       "      <th>Win</th>\n",
       "    </tr>\n",
       "    <tr>\n",
       "      <th>Rank</th>\n",
       "      <th></th>\n",
       "      <th></th>\n",
       "      <th></th>\n",
       "      <th></th>\n",
       "    </tr>\n",
       "  </thead>\n",
       "  <tbody>\n",
       "    <tr>\n",
       "      <th>Top 10</th>\n",
       "      <td>10</td>\n",
       "      <td>2</td>\n",
       "      <td>25</td>\n",
       "      <td>21</td>\n",
       "    </tr>\n",
       "    <tr>\n",
       "      <th>Top 32</th>\n",
       "      <td>3</td>\n",
       "      <td>7</td>\n",
       "      <td>10</td>\n",
       "      <td>20</td>\n",
       "    </tr>\n",
       "    <tr>\n",
       "      <th>Top 100</th>\n",
       "      <td>0</td>\n",
       "      <td>6</td>\n",
       "      <td>5</td>\n",
       "      <td>23</td>\n",
       "    </tr>\n",
       "    <tr>\n",
       "      <th>Outside Top 100</th>\n",
       "      <td>1</td>\n",
       "      <td>5</td>\n",
       "      <td>1</td>\n",
       "      <td>12</td>\n",
       "    </tr>\n",
       "  </tbody>\n",
       "</table>\n",
       "</div>"
      ],
      "text/plain": [
       "Period          2021     Before    \n",
       "Result          Lose Win   Lose Win\n",
       "Rank                               \n",
       "Top 10            10   2     25  21\n",
       "Top 32             3   7     10  20\n",
       "Top 100            0   6      5  23\n",
       "Outside Top 100    1   5      1  12"
      ]
     },
     "execution_count": 22,
     "metadata": {},
     "output_type": "execute_result"
    }
   ],
   "source": [
    "table = pd.pivot_table(matchesnowo, values='Round', index=['Rank'],\n",
    "                       columns=['Period','Result'], aggfunc='count')\n",
    "table"
   ]
  },
  {
   "cell_type": "markdown",
   "metadata": {
    "id": "dBaowS9occJa"
   },
   "source": [
    "Praveen/Melati is in top 10, the winning ratio used to be 21:25 before 2021, they can go against top 10, almost equal. But in 2021, the gap is widen. Out of 12 matches against the top 10, they only won 2 matches."
   ]
  },
  {
   "cell_type": "code",
   "execution_count": 23,
   "metadata": {},
   "outputs": [
    {
     "data": {
      "text/plain": [
       "Dechapol PUAVARANUKROH / Sapsiree TAERATTANACHAI    5\n",
       "TANG Chun Man / TSE Ying Suet                       2\n",
       "Mathias CHRISTIANSEN / Alexandra BØJE               1\n",
       "DHRUV KAPILA / REDDY N. Sikki                       1\n",
       "HOO Pang Ron / CHEAH Yee See                        1\n",
       "Yuta WATANABE / Arisa HIGASHINO                     1\n",
       "ZHENG Siwei / HUANG Yaqiong                         1\n",
       "SEO Seung Jae / CHAE YuJung                         1\n",
       "Thom GICQUEL / Delphine DELRUE                      1\n",
       "Name: Player, dtype: int64"
      ]
     },
     "execution_count": 23,
     "metadata": {},
     "output_type": "execute_result"
    }
   ],
   "source": [
    "matchesnowo[(matchesnowo['Year']=='2021')&(matchesnowo['Result']=='Lose')].Player.value_counts()"
   ]
  },
  {
   "cell_type": "code",
   "execution_count": 24,
   "metadata": {},
   "outputs": [
    {
     "name": "stderr",
     "output_type": "stream",
     "text": [
      "C:\\Users\\Risa\\AppData\\Local\\Temp\\ipykernel_2848\\4139116183.py:1: SettingWithCopyWarning: \n",
      "A value is trying to be set on a copy of a slice from a DataFrame.\n",
      "Try using .loc[row_indexer,col_indexer] = value instead\n",
      "\n",
      "See the caveats in the documentation: https://pandas.pydata.org/pandas-docs/stable/user_guide/indexing.html#returning-a-view-versus-a-copy\n",
      "  matchesnowo['Opponent']=np.where(matchesnowo['Result']=='Win', matchesnowo['Player.1'], matchesnowo['Player'])\n"
     ]
    }
   ],
   "source": [
    "matchesnowo['Opponent']=np.where(matchesnowo['Result']=='Win', matchesnowo['Player.1'], matchesnowo['Player'])"
   ]
  },
  {
   "cell_type": "code",
   "execution_count": 25,
   "metadata": {},
   "outputs": [
    {
     "data": {
      "text/html": [
       "<div>\n",
       "<style scoped>\n",
       "    .dataframe tbody tr th:only-of-type {\n",
       "        vertical-align: middle;\n",
       "    }\n",
       "\n",
       "    .dataframe tbody tr th {\n",
       "        vertical-align: top;\n",
       "    }\n",
       "\n",
       "    .dataframe thead tr th {\n",
       "        text-align: left;\n",
       "    }\n",
       "</style>\n",
       "<table border=\"1\" class=\"dataframe\">\n",
       "  <thead>\n",
       "    <tr>\n",
       "      <th>Period</th>\n",
       "      <th>Opponent</th>\n",
       "      <th colspan=\"2\" halign=\"left\">2021</th>\n",
       "      <th colspan=\"2\" halign=\"left\">Before</th>\n",
       "    </tr>\n",
       "    <tr>\n",
       "      <th>Result</th>\n",
       "      <th></th>\n",
       "      <th>Lose</th>\n",
       "      <th>Win</th>\n",
       "      <th>Lose</th>\n",
       "      <th>Win</th>\n",
       "    </tr>\n",
       "  </thead>\n",
       "  <tbody>\n",
       "    <tr>\n",
       "      <th>9</th>\n",
       "      <td>Dechapol PUAVARANUKROH / Sapsiree TAERATTANACHAI</td>\n",
       "      <td>5.0</td>\n",
       "      <td>NaN</td>\n",
       "      <td>2.0</td>\n",
       "      <td>4.0</td>\n",
       "    </tr>\n",
       "    <tr>\n",
       "      <th>55</th>\n",
       "      <td>TANG Chun Man / TSE Ying Suet</td>\n",
       "      <td>2.0</td>\n",
       "      <td>NaN</td>\n",
       "      <td>2.0</td>\n",
       "      <td>1.0</td>\n",
       "    </tr>\n",
       "    <tr>\n",
       "      <th>8</th>\n",
       "      <td>DHRUV KAPILA / REDDY N. Sikki</td>\n",
       "      <td>1.0</td>\n",
       "      <td>NaN</td>\n",
       "      <td>NaN</td>\n",
       "      <td>NaN</td>\n",
       "    </tr>\n",
       "    <tr>\n",
       "      <th>16</th>\n",
       "      <td>HOO Pang Ron / CHEAH Yee See</td>\n",
       "      <td>1.0</td>\n",
       "      <td>NaN</td>\n",
       "      <td>NaN</td>\n",
       "      <td>NaN</td>\n",
       "    </tr>\n",
       "    <tr>\n",
       "      <th>29</th>\n",
       "      <td>Mathias CHRISTIANSEN / Alexandra BØJE</td>\n",
       "      <td>1.0</td>\n",
       "      <td>2.0</td>\n",
       "      <td>NaN</td>\n",
       "      <td>1.0</td>\n",
       "    </tr>\n",
       "    <tr>\n",
       "      <th>48</th>\n",
       "      <td>SEO Seung Jae / CHAE YuJung</td>\n",
       "      <td>1.0</td>\n",
       "      <td>NaN</td>\n",
       "      <td>1.0</td>\n",
       "      <td>NaN</td>\n",
       "    </tr>\n",
       "    <tr>\n",
       "      <th>58</th>\n",
       "      <td>Thom GICQUEL / Delphine DELRUE</td>\n",
       "      <td>1.0</td>\n",
       "      <td>1.0</td>\n",
       "      <td>1.0</td>\n",
       "      <td>NaN</td>\n",
       "    </tr>\n",
       "    <tr>\n",
       "      <th>70</th>\n",
       "      <td>Yuta WATANABE / Arisa HIGASHINO</td>\n",
       "      <td>1.0</td>\n",
       "      <td>NaN</td>\n",
       "      <td>2.0</td>\n",
       "      <td>2.0</td>\n",
       "    </tr>\n",
       "    <tr>\n",
       "      <th>71</th>\n",
       "      <td>ZHENG Siwei / HUANG Yaqiong</td>\n",
       "      <td>1.0</td>\n",
       "      <td>NaN</td>\n",
       "      <td>7.0</td>\n",
       "      <td>2.0</td>\n",
       "    </tr>\n",
       "  </tbody>\n",
       "</table>\n",
       "</div>"
      ],
      "text/plain": [
       "Period                                          Opponent 2021      Before     \n",
       "Result                                                   Lose  Win   Lose  Win\n",
       "9       Dechapol PUAVARANUKROH / Sapsiree TAERATTANACHAI  5.0  NaN    2.0  4.0\n",
       "55                         TANG Chun Man / TSE Ying Suet  2.0  NaN    2.0  1.0\n",
       "8                          DHRUV KAPILA / REDDY N. Sikki  1.0  NaN    NaN  NaN\n",
       "16                          HOO Pang Ron / CHEAH Yee See  1.0  NaN    NaN  NaN\n",
       "29                 Mathias CHRISTIANSEN / Alexandra BØJE  1.0  2.0    NaN  1.0\n",
       "48                           SEO Seung Jae / CHAE YuJung  1.0  NaN    1.0  NaN\n",
       "58                        Thom GICQUEL / Delphine DELRUE  1.0  1.0    1.0  NaN\n",
       "70                       Yuta WATANABE / Arisa HIGASHINO  1.0  NaN    2.0  2.0\n",
       "71                           ZHENG Siwei / HUANG Yaqiong  1.0  NaN    7.0  2.0"
      ]
     },
     "execution_count": 25,
     "metadata": {},
     "output_type": "execute_result"
    }
   ],
   "source": [
    "h2h = pd.pivot_table(matchesnowo, values='Round', index=['Opponent'],\n",
    "                       columns=['Period','Result'], aggfunc='count')\n",
    "h2h.reset_index().sort_values(by=('2021','Lose'),ascending=False).head(9)"
   ]
  },
  {
   "cell_type": "markdown",
   "metadata": {},
   "source": [
    "Out of all pairs that won against Praveen/Melati in 2021, Dechapol/Sapsiree is the pair with most wins again Praveen/Melati. Ironically, their H2H before 2021 is 2-4 agains Praveen/Melati, which means they were more likely to lose againts the Indonesian pair. It's either Dechapol/Sapsiree improved their game dramatically or Praveen/Melati performed poorly against them in 2021."
   ]
  },
  {
   "cell_type": "markdown",
   "metadata": {},
   "source": [
    "Conclusion: Though there's a room to argue whether they deserve to stay in Pelatnas or not, we can say that statistically, Praveen/Melati's performance in 2021 is no doubt worse than their performance during 2018-2020, based on the declined winning rate, worsen tournament result, or match against players who used to be on par with them."
   ]
  }
 ],
 "metadata": {
  "colab": {
   "provenance": []
  },
  "kernelspec": {
   "display_name": "Python 3 (ipykernel)",
   "language": "python",
   "name": "python3"
  },
  "language_info": {
   "codemirror_mode": {
    "name": "ipython",
    "version": 3
   },
   "file_extension": ".py",
   "mimetype": "text/x-python",
   "name": "python",
   "nbconvert_exporter": "python",
   "pygments_lexer": "ipython3",
   "version": "3.8.13"
  }
 },
 "nbformat": 4,
 "nbformat_minor": 1
}
