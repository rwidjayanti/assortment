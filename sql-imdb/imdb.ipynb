{
 "cells": [
  {
   "cell_type": "markdown",
   "id": "fb3ef102",
   "metadata": {},
   "source": [
    "IMDb is one of the largest internet database for movies. It contains a lot of information regarding a film, be it the casts, crews, and also reviews from the watchers.\n",
    "\n",
    "In this notebook, we are going to explore and analyze the IMDb data downloaded from here https://www.kaggle.com/datasets/luizpaulodeoliveira/imdb-project-sql?resource=download \n",
    "\n",
    "The database consists of two main tables, movies and directors."
   ]
  },
  {
   "cell_type": "markdown",
   "id": "6b4de22a",
   "metadata": {},
   "source": [
    "First we are going to setup and connect to the local database."
   ]
  },
  {
   "cell_type": "code",
   "execution_count": 1,
   "id": "ec82bd29",
   "metadata": {},
   "outputs": [],
   "source": [
    "%load_ext sql\n",
    "%config SqlMagic.autocommit=False"
   ]
  },
  {
   "cell_type": "code",
   "execution_count": 2,
   "id": "7e69c6e5",
   "metadata": {},
   "outputs": [],
   "source": [
    "%sql sqlite:///imdb.sqlite"
   ]
  },
  {
   "cell_type": "markdown",
   "id": "bf51859a",
   "metadata": {},
   "source": [
    "Check the data from each tables"
   ]
  },
  {
   "cell_type": "code",
   "execution_count": 3,
   "id": "31ee2442",
   "metadata": {},
   "outputs": [
    {
     "name": "stdout",
     "output_type": "stream",
     "text": [
      " * sqlite:///imdb.sqlite\n",
      "Done.\n"
     ]
    },
    {
     "data": {
      "text/html": [
       "<table>\n",
       "    <tr>\n",
       "        <th>id</th>\n",
       "        <th>original_title</th>\n",
       "        <th>budget</th>\n",
       "        <th>popularity</th>\n",
       "        <th>release_date</th>\n",
       "        <th>revenue</th>\n",
       "        <th>title</th>\n",
       "        <th>vote_average</th>\n",
       "        <th>vote_count</th>\n",
       "        <th>overview</th>\n",
       "        <th>tagline</th>\n",
       "        <th>uid</th>\n",
       "        <th>director_id</th>\n",
       "    </tr>\n",
       "    <tr>\n",
       "        <td>43597</td>\n",
       "        <td>Avatar</td>\n",
       "        <td>237000000</td>\n",
       "        <td>150</td>\n",
       "        <td>2009-12-10</td>\n",
       "        <td>2787965087</td>\n",
       "        <td>Avatar</td>\n",
       "        <td>7.2</td>\n",
       "        <td>11800</td>\n",
       "        <td>In the 22nd century, a paraplegic Marine is dispatched to the moon Pandora on a unique mission, but becomes torn between following orders and protecting an alien civilization.</td>\n",
       "        <td>Enter the World of Pandora.</td>\n",
       "        <td>19995</td>\n",
       "        <td>4762</td>\n",
       "    </tr>\n",
       "    <tr>\n",
       "        <td>43598</td>\n",
       "        <td>Pirates of the Caribbean: At World&#x27;s End</td>\n",
       "        <td>300000000</td>\n",
       "        <td>139</td>\n",
       "        <td>2007-05-19</td>\n",
       "        <td>961000000</td>\n",
       "        <td>Pirates of the Caribbean: At World&#x27;s End</td>\n",
       "        <td>6.9</td>\n",
       "        <td>4500</td>\n",
       "        <td>Captain Barbossa, long believed to be dead, has come back to life and is headed to the edge of the Earth with Will Turner and Elizabeth Swann. But nothing is quite as it seems.</td>\n",
       "        <td>At the end of the world, the adventure begins.</td>\n",
       "        <td>285</td>\n",
       "        <td>4763</td>\n",
       "    </tr>\n",
       "    <tr>\n",
       "        <td>43599</td>\n",
       "        <td>Spectre</td>\n",
       "        <td>245000000</td>\n",
       "        <td>107</td>\n",
       "        <td>2015-10-26</td>\n",
       "        <td>880674609</td>\n",
       "        <td>Spectre</td>\n",
       "        <td>6.3</td>\n",
       "        <td>4466</td>\n",
       "        <td>A cryptic message from Bond’s past sends him on a trail to uncover a sinister organization. While M battles political forces to keep the secret service alive, Bond peels back the layers of deceit to reveal the terrible truth behind SPECTRE.</td>\n",
       "        <td>A Plan No One Escapes</td>\n",
       "        <td>206647</td>\n",
       "        <td>4764</td>\n",
       "    </tr>\n",
       "    <tr>\n",
       "        <td>43600</td>\n",
       "        <td>The Dark Knight Rises</td>\n",
       "        <td>250000000</td>\n",
       "        <td>112</td>\n",
       "        <td>2012-07-16</td>\n",
       "        <td>1084939099</td>\n",
       "        <td>The Dark Knight Rises</td>\n",
       "        <td>7.6</td>\n",
       "        <td>9106</td>\n",
       "        <td>Following the death of District Attorney Harvey Dent, Batman assumes responsibility for Dent&#x27;s crimes to protect the late attorney&#x27;s reputation and is subsequently hunted by the Gotham City Police Department. Eight years later, Batman encounters the mysterious Selina Kyle and the villainous Bane, a new terrorist leader who overwhelms Gotham&#x27;s finest. The Dark Knight resurfaces to protect a city that has branded him an enemy.</td>\n",
       "        <td>The Legend Ends</td>\n",
       "        <td>49026</td>\n",
       "        <td>4765</td>\n",
       "    </tr>\n",
       "    <tr>\n",
       "        <td>43601</td>\n",
       "        <td>John Carter</td>\n",
       "        <td>260000000</td>\n",
       "        <td>43</td>\n",
       "        <td>2012-03-07</td>\n",
       "        <td>284139100</td>\n",
       "        <td>John Carter</td>\n",
       "        <td>6.1</td>\n",
       "        <td>2124</td>\n",
       "        <td>John Carter is a war-weary, former military captain who&#x27;s inexplicably transported to the mysterious and exotic planet of Barsoom (Mars) and reluctantly becomes embroiled in an epic conflict. It&#x27;s a world on the brink of collapse, and Carter rediscovers his humanity when he realizes the survival of Barsoom and its people rests in his hands.</td>\n",
       "        <td>Lost in our world, found in another.</td>\n",
       "        <td>49529</td>\n",
       "        <td>4766</td>\n",
       "    </tr>\n",
       "</table>"
      ],
      "text/plain": [
       "[(43597, 'Avatar', 237000000, 150, '2009-12-10', 2787965087, 'Avatar', 7.2, 11800, 'In the 22nd century, a paraplegic Marine is dispatched to the moon Pandora on a unique mission, but becomes torn between following orders and protecting an alien civilization.', 'Enter the World of Pandora.', 19995, 4762),\n",
       " (43598, \"Pirates of the Caribbean: At World's End\", 300000000, 139, '2007-05-19', 961000000, \"Pirates of the Caribbean: At World's End\", 6.9, 4500, 'Captain Barbossa, long believed to be dead, has come back to life and is headed to the edge of the Earth with Will Turner and Elizabeth Swann. But nothing is quite as it seems.', 'At the end of the world, the adventure begins.', 285, 4763),\n",
       " (43599, 'Spectre', 245000000, 107, '2015-10-26', 880674609, 'Spectre', 6.3, 4466, 'A cryptic message from Bond’s past sends him on a trail to uncover a sinister organization. While M battles political forces to keep the secret service alive, Bond peels back the layers of deceit to reveal the terrible truth behind SPECTRE.', 'A Plan No One Escapes', 206647, 4764),\n",
       " (43600, 'The Dark Knight Rises', 250000000, 112, '2012-07-16', 1084939099, 'The Dark Knight Rises', 7.6, 9106, \"Following the death of District Attorney Harvey Dent, Batman assumes responsibility for Dent's crimes to protect the late attorney's reputation and i ... (130 characters truncated) ... e villainous Bane, a new terrorist leader who overwhelms Gotham's finest. The Dark Knight resurfaces to protect a city that has branded him an enemy.\", 'The Legend Ends', 49026, 4765),\n",
       " (43601, 'John Carter', 260000000, 43, '2012-03-07', 284139100, 'John Carter', 6.1, 2124, \"John Carter is a war-weary, former military captain who's inexplicably transported to the mysterious and exotic planet of Barsoom (Mars) and reluctan ... (44 characters truncated) ... t's a world on the brink of collapse, and Carter rediscovers his humanity when he realizes the survival of Barsoom and its people rests in his hands.\", 'Lost in our world, found in another.', 49529, 4766)]"
      ]
     },
     "execution_count": 3,
     "metadata": {},
     "output_type": "execute_result"
    }
   ],
   "source": [
    "%%sql\n",
    "\n",
    "SELECT * FROM movies\n",
    "LIMIT 5"
   ]
  },
  {
   "cell_type": "code",
   "execution_count": 4,
   "id": "fc5ef165",
   "metadata": {},
   "outputs": [
    {
     "name": "stdout",
     "output_type": "stream",
     "text": [
      " * sqlite:///imdb.sqlite\n",
      "Done.\n"
     ]
    },
    {
     "data": {
      "text/html": [
       "<table>\n",
       "    <tr>\n",
       "        <th>name</th>\n",
       "        <th>id</th>\n",
       "        <th>gender</th>\n",
       "        <th>uid</th>\n",
       "        <th>department</th>\n",
       "    </tr>\n",
       "    <tr>\n",
       "        <td>James Cameron</td>\n",
       "        <td>4762</td>\n",
       "        <td>2</td>\n",
       "        <td>2710</td>\n",
       "        <td>Directing</td>\n",
       "    </tr>\n",
       "    <tr>\n",
       "        <td>Gore Verbinski</td>\n",
       "        <td>4763</td>\n",
       "        <td>2</td>\n",
       "        <td>1704</td>\n",
       "        <td>Directing</td>\n",
       "    </tr>\n",
       "    <tr>\n",
       "        <td>Sam Mendes</td>\n",
       "        <td>4764</td>\n",
       "        <td>2</td>\n",
       "        <td>39</td>\n",
       "        <td>Directing</td>\n",
       "    </tr>\n",
       "    <tr>\n",
       "        <td>Christopher Nolan</td>\n",
       "        <td>4765</td>\n",
       "        <td>2</td>\n",
       "        <td>525</td>\n",
       "        <td>Directing</td>\n",
       "    </tr>\n",
       "    <tr>\n",
       "        <td>Andrew Stanton</td>\n",
       "        <td>4766</td>\n",
       "        <td>2</td>\n",
       "        <td>7</td>\n",
       "        <td>Directing</td>\n",
       "    </tr>\n",
       "</table>"
      ],
      "text/plain": [
       "[('James Cameron', 4762, 2, 2710, 'Directing'),\n",
       " ('Gore Verbinski', 4763, 2, 1704, 'Directing'),\n",
       " ('Sam Mendes', 4764, 2, 39, 'Directing'),\n",
       " ('Christopher Nolan', 4765, 2, 525, 'Directing'),\n",
       " ('Andrew Stanton', 4766, 2, 7, 'Directing')]"
      ]
     },
     "execution_count": 4,
     "metadata": {},
     "output_type": "execute_result"
    }
   ],
   "source": [
    "%%sql\n",
    "\n",
    "SELECT * FROM directors\n",
    "LIMIT 5"
   ]
  },
  {
   "cell_type": "markdown",
   "id": "52594741",
   "metadata": {},
   "source": [
    "Most popular movies each year"
   ]
  },
  {
   "cell_type": "code",
   "execution_count": 5,
   "id": "b8afdf28",
   "metadata": {},
   "outputs": [
    {
     "name": "stdout",
     "output_type": "stream",
     "text": [
      " * sqlite:///imdb.sqlite\n",
      "Done.\n"
     ]
    },
    {
     "data": {
      "text/html": [
       "<table>\n",
       "    <tr>\n",
       "        <th>Year</th>\n",
       "        <th>title</th>\n",
       "    </tr>\n",
       "    <tr>\n",
       "        <td>2016</td>\n",
       "        <td>Deadpool</td>\n",
       "    </tr>\n",
       "    <tr>\n",
       "        <td>2015</td>\n",
       "        <td>Minions</td>\n",
       "    </tr>\n",
       "    <tr>\n",
       "        <td>2014</td>\n",
       "        <td>Interstellar</td>\n",
       "    </tr>\n",
       "    <tr>\n",
       "        <td>2013</td>\n",
       "        <td>Frozen</td>\n",
       "    </tr>\n",
       "    <tr>\n",
       "        <td>2012</td>\n",
       "        <td>The Avengers</td>\n",
       "    </tr>\n",
       "    <tr>\n",
       "        <td>2011</td>\n",
       "        <td>Rise of the Planet of the Apes</td>\n",
       "    </tr>\n",
       "    <tr>\n",
       "        <td>2010</td>\n",
       "        <td>Inception</td>\n",
       "    </tr>\n",
       "    <tr>\n",
       "        <td>2009</td>\n",
       "        <td>Avatar</td>\n",
       "    </tr>\n",
       "    <tr>\n",
       "        <td>2008</td>\n",
       "        <td>The Dark Knight</td>\n",
       "    </tr>\n",
       "    <tr>\n",
       "        <td>2007</td>\n",
       "        <td>Pirates of the Caribbean: At World&#x27;s End</td>\n",
       "    </tr>\n",
       "    <tr>\n",
       "        <td>2006</td>\n",
       "        <td>Pirates of the Caribbean: Dead Man&#x27;s Chest</td>\n",
       "    </tr>\n",
       "    <tr>\n",
       "        <td>2005</td>\n",
       "        <td>Batman Begins</td>\n",
       "    </tr>\n",
       "    <tr>\n",
       "        <td>2004</td>\n",
       "        <td>I, Robot</td>\n",
       "    </tr>\n",
       "    <tr>\n",
       "        <td>2003</td>\n",
       "        <td>Pirates of the Caribbean: The Curse of the Black Pearl</td>\n",
       "    </tr>\n",
       "    <tr>\n",
       "        <td>2002</td>\n",
       "        <td>Harry Potter and the Chamber of Secrets</td>\n",
       "    </tr>\n",
       "</table>"
      ],
      "text/plain": [
       "[('2016', 'Deadpool'),\n",
       " ('2015', 'Minions'),\n",
       " ('2014', 'Interstellar'),\n",
       " ('2013', 'Frozen'),\n",
       " ('2012', 'The Avengers'),\n",
       " ('2011', 'Rise of the Planet of the Apes'),\n",
       " ('2010', 'Inception'),\n",
       " ('2009', 'Avatar'),\n",
       " ('2008', 'The Dark Knight'),\n",
       " ('2007', \"Pirates of the Caribbean: At World's End\"),\n",
       " ('2006', \"Pirates of the Caribbean: Dead Man's Chest\"),\n",
       " ('2005', 'Batman Begins'),\n",
       " ('2004', 'I, Robot'),\n",
       " ('2003', 'Pirates of the Caribbean: The Curse of the Black Pearl'),\n",
       " ('2002', 'Harry Potter and the Chamber of Secrets')]"
      ]
     },
     "execution_count": 5,
     "metadata": {},
     "output_type": "execute_result"
    }
   ],
   "source": [
    "%%sql\n",
    "\n",
    "SELECT substr(release_date,1,4) as Year, Title\n",
    "FROM movies\n",
    "GROUP BY Year\n",
    "HAVING max(popularity)\n",
    "ORDER BY Year DESC\n",
    "LIMIT 15"
   ]
  },
  {
   "cell_type": "markdown",
   "id": "c1420721",
   "metadata": {},
   "source": [
    "Top 5 most productive directors"
   ]
  },
  {
   "cell_type": "code",
   "execution_count": 6,
   "id": "c13f1134",
   "metadata": {},
   "outputs": [
    {
     "name": "stdout",
     "output_type": "stream",
     "text": [
      " * sqlite:///imdb.sqlite\n",
      "Done.\n"
     ]
    },
    {
     "data": {
      "text/html": [
       "<table>\n",
       "    <tr>\n",
       "        <th>name</th>\n",
       "        <th>num_of_movies</th>\n",
       "    </tr>\n",
       "    <tr>\n",
       "        <td>Steven Spielberg</td>\n",
       "        <td>27</td>\n",
       "    </tr>\n",
       "    <tr>\n",
       "        <td>Woody Allen</td>\n",
       "        <td>21</td>\n",
       "    </tr>\n",
       "    <tr>\n",
       "        <td>Martin Scorsese</td>\n",
       "        <td>20</td>\n",
       "    </tr>\n",
       "    <tr>\n",
       "        <td>Clint Eastwood</td>\n",
       "        <td>20</td>\n",
       "    </tr>\n",
       "    <tr>\n",
       "        <td>Spike Lee</td>\n",
       "        <td>16</td>\n",
       "    </tr>\n",
       "    <tr>\n",
       "        <td>Robert Rodriguez</td>\n",
       "        <td>16</td>\n",
       "    </tr>\n",
       "    <tr>\n",
       "        <td>Ridley Scott</td>\n",
       "        <td>16</td>\n",
       "    </tr>\n",
       "    <tr>\n",
       "        <td>Steven Soderbergh</td>\n",
       "        <td>15</td>\n",
       "    </tr>\n",
       "    <tr>\n",
       "        <td>Renny Harlin</td>\n",
       "        <td>15</td>\n",
       "    </tr>\n",
       "    <tr>\n",
       "        <td>Tim Burton</td>\n",
       "        <td>14</td>\n",
       "    </tr>\n",
       "</table>"
      ],
      "text/plain": [
       "[('Steven Spielberg', 27),\n",
       " ('Woody Allen', 21),\n",
       " ('Martin Scorsese', 20),\n",
       " ('Clint Eastwood', 20),\n",
       " ('Spike Lee', 16),\n",
       " ('Robert Rodriguez', 16),\n",
       " ('Ridley Scott', 16),\n",
       " ('Steven Soderbergh', 15),\n",
       " ('Renny Harlin', 15),\n",
       " ('Tim Burton', 14)]"
      ]
     },
     "execution_count": 6,
     "metadata": {},
     "output_type": "execute_result"
    }
   ],
   "source": [
    "%%sql\n",
    "\n",
    "SELECT directors.name, count(*) as num_of_movies\n",
    "FROM movies, directors\n",
    "WHERE directors.id=movies.director_id\n",
    "GROUP BY directors.name\n",
    "ORDER BY count(*) desc\n",
    "LIMIT 10"
   ]
  },
  {
   "cell_type": "markdown",
   "id": "a7a9c920",
   "metadata": {},
   "source": [
    "Now we are going to see if month of released date contribute to revenue factor"
   ]
  },
  {
   "cell_type": "code",
   "execution_count": 7,
   "id": "b69f5c31",
   "metadata": {},
   "outputs": [
    {
     "name": "stdout",
     "output_type": "stream",
     "text": [
      " * sqlite:///imdb.sqlite\n",
      "Done.\n"
     ]
    },
    {
     "data": {
      "text/html": [
       "<table>\n",
       "    <tr>\n",
       "        <th>Month</th>\n",
       "        <th>Monthly_Revenue</th>\n",
       "        <th>Num_of_Movies</th>\n",
       "        <th>Average_Revenue</th>\n",
       "    </tr>\n",
       "    <tr>\n",
       "        <td>01</td>\n",
       "        <td>10938212188</td>\n",
       "        <td>372</td>\n",
       "        <td>29403796.0</td>\n",
       "    </tr>\n",
       "    <tr>\n",
       "        <td>02</td>\n",
       "        <td>18301124650</td>\n",
       "        <td>324</td>\n",
       "        <td>56484952.0</td>\n",
       "    </tr>\n",
       "    <tr>\n",
       "        <td>03</td>\n",
       "        <td>27194373719</td>\n",
       "        <td>370</td>\n",
       "        <td>73498307.0</td>\n",
       "    </tr>\n",
       "    <tr>\n",
       "        <td>04</td>\n",
       "        <td>25874666986</td>\n",
       "        <td>350</td>\n",
       "        <td>73927619.0</td>\n",
       "    </tr>\n",
       "    <tr>\n",
       "        <td>05</td>\n",
       "        <td>48616638167</td>\n",
       "        <td>361</td>\n",
       "        <td>134672127.0</td>\n",
       "    </tr>\n",
       "    <tr>\n",
       "        <td>06</td>\n",
       "        <td>59238687315</td>\n",
       "        <td>389</td>\n",
       "        <td>152284543.0</td>\n",
       "    </tr>\n",
       "    <tr>\n",
       "        <td>07</td>\n",
       "        <td>40502377467</td>\n",
       "        <td>360</td>\n",
       "        <td>112506604.0</td>\n",
       "    </tr>\n",
       "    <tr>\n",
       "        <td>08</td>\n",
       "        <td>23047363225</td>\n",
       "        <td>412</td>\n",
       "        <td>55940202.0</td>\n",
       "    </tr>\n",
       "    <tr>\n",
       "        <td>09</td>\n",
       "        <td>23513601546</td>\n",
       "        <td>585</td>\n",
       "        <td>40194190.0</td>\n",
       "    </tr>\n",
       "    <tr>\n",
       "        <td>10</td>\n",
       "        <td>25071742760</td>\n",
       "        <td>472</td>\n",
       "        <td>53118099.0</td>\n",
       "    </tr>\n",
       "    <tr>\n",
       "        <td>11</td>\n",
       "        <td>42016879351</td>\n",
       "        <td>324</td>\n",
       "        <td>129681726.0</td>\n",
       "    </tr>\n",
       "    <tr>\n",
       "        <td>12</td>\n",
       "        <td>50779407340</td>\n",
       "        <td>454</td>\n",
       "        <td>111848914.0</td>\n",
       "    </tr>\n",
       "</table>"
      ],
      "text/plain": [
       "[('01', 10938212188, 372, 29403796.0),\n",
       " ('02', 18301124650, 324, 56484952.0),\n",
       " ('03', 27194373719, 370, 73498307.0),\n",
       " ('04', 25874666986, 350, 73927619.0),\n",
       " ('05', 48616638167, 361, 134672127.0),\n",
       " ('06', 59238687315, 389, 152284543.0),\n",
       " ('07', 40502377467, 360, 112506604.0),\n",
       " ('08', 23047363225, 412, 55940202.0),\n",
       " ('09', 23513601546, 585, 40194190.0),\n",
       " ('10', 25071742760, 472, 53118099.0),\n",
       " ('11', 42016879351, 324, 129681726.0),\n",
       " ('12', 50779407340, 454, 111848914.0)]"
      ]
     },
     "execution_count": 7,
     "metadata": {},
     "output_type": "execute_result"
    }
   ],
   "source": [
    "%%sql\n",
    "\n",
    "SELECT substr(release_date,6,2) as Month, sum(revenue) as Monthly_Revenue, count(*) as Num_of_Movies, round(sum(revenue)/count(*)) as Average_Revenue\n",
    "FROM movies\n",
    "GROUP BY Month\n"
   ]
  },
  {
   "cell_type": "markdown",
   "id": "9fd4f29a",
   "metadata": {},
   "source": [
    "Based on month of release_date, movies tend to get far more revenue in June (averaged), it's more than 5 times of revenue movies released in January, but there are a lot of factors for revenue.\n",
    "Also, note that September leads with the highest number of movies released."
   ]
  },
  {
   "cell_type": "markdown",
   "id": "11a63f23",
   "metadata": {},
   "source": [
    "Here are the top 5 highest grossing directors."
   ]
  },
  {
   "cell_type": "code",
   "execution_count": 8,
   "id": "37318c3d",
   "metadata": {},
   "outputs": [
    {
     "name": "stdout",
     "output_type": "stream",
     "text": [
      " * sqlite:///imdb.sqlite\n",
      "Done.\n"
     ]
    },
    {
     "data": {
      "text/html": [
       "<table>\n",
       "    <tr>\n",
       "        <th>name</th>\n",
       "        <th>total_revenue</th>\n",
       "    </tr>\n",
       "    <tr>\n",
       "        <td>Steven Spielberg</td>\n",
       "        <td>9147393164</td>\n",
       "    </tr>\n",
       "    <tr>\n",
       "        <td>Peter Jackson</td>\n",
       "        <td>6498642820</td>\n",
       "    </tr>\n",
       "    <tr>\n",
       "        <td>James Cameron</td>\n",
       "        <td>5883569439</td>\n",
       "    </tr>\n",
       "    <tr>\n",
       "        <td>Michael Bay</td>\n",
       "        <td>5832524638</td>\n",
       "    </tr>\n",
       "    <tr>\n",
       "        <td>Christopher Nolan</td>\n",
       "        <td>4227483234</td>\n",
       "    </tr>\n",
       "</table>"
      ],
      "text/plain": [
       "[('Steven Spielberg', 9147393164),\n",
       " ('Peter Jackson', 6498642820),\n",
       " ('James Cameron', 5883569439),\n",
       " ('Michael Bay', 5832524638),\n",
       " ('Christopher Nolan', 4227483234)]"
      ]
     },
     "execution_count": 8,
     "metadata": {},
     "output_type": "execute_result"
    }
   ],
   "source": [
    "%%sql\n",
    "\n",
    "SELECT DISTINCT directors.name, sum(movies.revenue) over (partition by directors.name) as total_revenue\n",
    "FROM movies, directors\n",
    "WHERE directors.id=movies.director_id\n",
    "ORDER BY total_revenue DESC\n",
    "LIMIT 5"
   ]
  },
  {
   "cell_type": "markdown",
   "id": "0ffb497d",
   "metadata": {},
   "source": [
    "Take a look at how top 5 highest grossing director choose their release date."
   ]
  },
  {
   "cell_type": "code",
   "execution_count": 9,
   "id": "f2133fec",
   "metadata": {},
   "outputs": [
    {
     "name": "stdout",
     "output_type": "stream",
     "text": [
      " * sqlite:///imdb.sqlite\n",
      "Done.\n"
     ]
    },
    {
     "data": {
      "text/html": [
       "<table>\n",
       "    <tr>\n",
       "        <th>Month</th>\n",
       "        <th>count_m</th>\n",
       "    </tr>\n",
       "    <tr>\n",
       "        <td>01</td>\n",
       "        <td>1</td>\n",
       "    </tr>\n",
       "    <tr>\n",
       "        <td>04</td>\n",
       "        <td>3</td>\n",
       "    </tr>\n",
       "    <tr>\n",
       "        <td>05</td>\n",
       "        <td>6</td>\n",
       "    </tr>\n",
       "    <tr>\n",
       "        <td>06</td>\n",
       "        <td>15</td>\n",
       "    </tr>\n",
       "    <tr>\n",
       "        <td>07</td>\n",
       "        <td>10</td>\n",
       "    </tr>\n",
       "    <tr>\n",
       "        <td>08</td>\n",
       "        <td>1</td>\n",
       "    </tr>\n",
       "    <tr>\n",
       "        <td>09</td>\n",
       "        <td>1</td>\n",
       "    </tr>\n",
       "    <tr>\n",
       "        <td>10</td>\n",
       "        <td>5</td>\n",
       "    </tr>\n",
       "    <tr>\n",
       "        <td>11</td>\n",
       "        <td>6</td>\n",
       "    </tr>\n",
       "    <tr>\n",
       "        <td>12</td>\n",
       "        <td>15</td>\n",
       "    </tr>\n",
       "</table>"
      ],
      "text/plain": [
       "[('01', 1),\n",
       " ('04', 3),\n",
       " ('05', 6),\n",
       " ('06', 15),\n",
       " ('07', 10),\n",
       " ('08', 1),\n",
       " ('09', 1),\n",
       " ('10', 5),\n",
       " ('11', 6),\n",
       " ('12', 15)]"
      ]
     },
     "execution_count": 9,
     "metadata": {},
     "output_type": "execute_result"
    }
   ],
   "source": [
    "%%sql\n",
    "\n",
    "SELECT DISTINCT substr(release_date,6,2) as Month, count(title) over (partition by substr(release_date,6,2)) as count_m\n",
    "FROM directors\n",
    "INNER JOIN movies ON movies.director_id=directors.id\n",
    "WHERE directors.name IN(\n",
    "\tSELECT sub.name FROM(\n",
    "\t\tSELECT DISTINCT directors.name, sum(movies.revenue) over (partition by directors.name) as total_revenue\n",
    "\t\tFROM movies, directors\n",
    "\t\tWHERE directors.id=movies.director_id\n",
    "\t\tORDER BY total_revenue desc) sub\n",
    "\tLIMIT 5)\n",
    "ORDER BY month"
   ]
  },
  {
   "cell_type": "markdown",
   "id": "d2c11cc5",
   "metadata": {},
   "source": [
    "Looking at the number, the range is quite wide. Indeed June is one of favorite month to release their movies along with December."
   ]
  },
  {
   "cell_type": "markdown",
   "id": "ef91c4e5",
   "metadata": {},
   "source": [
    "To get a higher revenue, should the movie has a high budget? Is there any correlation between movie popularity, revenue, and quality?"
   ]
  },
  {
   "cell_type": "code",
   "execution_count": 10,
   "id": "4d632630",
   "metadata": {},
   "outputs": [
    {
     "name": "stdout",
     "output_type": "stream",
     "text": [
      " * sqlite:///imdb.sqlite\n",
      "Done.\n"
     ]
    },
    {
     "data": {
      "text/html": [
       "<table>\n",
       "    <tr>\n",
       "        <th>percentile_rank</th>\n",
       "        <th>average_revenue</th>\n",
       "        <th>average_popularity</th>\n",
       "        <th>average_voting</th>\n",
       "    </tr>\n",
       "    <tr>\n",
       "        <td>0.0</td>\n",
       "        <td>3554574.41</td>\n",
       "        <td>4.82</td>\n",
       "        <td>5.67</td>\n",
       "    </tr>\n",
       "    <tr>\n",
       "        <td>0.2</td>\n",
       "        <td>9860865.75</td>\n",
       "        <td>8.65</td>\n",
       "        <td>6.01</td>\n",
       "    </tr>\n",
       "    <tr>\n",
       "        <td>0.3</td>\n",
       "        <td>19146851.04</td>\n",
       "        <td>13.64</td>\n",
       "        <td>6.3</td>\n",
       "    </tr>\n",
       "    <tr>\n",
       "        <td>0.4</td>\n",
       "        <td>34612372.51</td>\n",
       "        <td>15.96</td>\n",
       "        <td>6.38</td>\n",
       "    </tr>\n",
       "    <tr>\n",
       "        <td>0.5</td>\n",
       "        <td>50716068.62</td>\n",
       "        <td>19.09</td>\n",
       "        <td>6.26</td>\n",
       "    </tr>\n",
       "    <tr>\n",
       "        <td>0.6</td>\n",
       "        <td>58414990.01</td>\n",
       "        <td>20.67</td>\n",
       "        <td>6.16</td>\n",
       "    </tr>\n",
       "    <tr>\n",
       "        <td>0.7</td>\n",
       "        <td>85175005.38</td>\n",
       "        <td>24.67</td>\n",
       "        <td>6.21</td>\n",
       "    </tr>\n",
       "    <tr>\n",
       "        <td>0.8</td>\n",
       "        <td>118076956.55</td>\n",
       "        <td>29.26</td>\n",
       "        <td>6.11</td>\n",
       "    </tr>\n",
       "    <tr>\n",
       "        <td>0.9</td>\n",
       "        <td>207872026.03</td>\n",
       "        <td>38.37</td>\n",
       "        <td>6.17</td>\n",
       "    </tr>\n",
       "    <tr>\n",
       "        <td>1.0</td>\n",
       "        <td>509621727.33</td>\n",
       "        <td>75.81</td>\n",
       "        <td>6.39</td>\n",
       "    </tr>\n",
       "</table>"
      ],
      "text/plain": [
       "[(0.0, 3554574.41, 4.82, 5.67),\n",
       " (0.2, 9860865.75, 8.65, 6.01),\n",
       " (0.3, 19146851.04, 13.64, 6.3),\n",
       " (0.4, 34612372.51, 15.96, 6.38),\n",
       " (0.5, 50716068.62, 19.09, 6.26),\n",
       " (0.6, 58414990.01, 20.67, 6.16),\n",
       " (0.7, 85175005.38, 24.67, 6.21),\n",
       " (0.8, 118076956.55, 29.26, 6.11),\n",
       " (0.9, 207872026.03, 38.37, 6.17),\n",
       " (1.0, 509621727.33, 75.81, 6.39)]"
      ]
     },
     "execution_count": 10,
     "metadata": {},
     "output_type": "execute_result"
    }
   ],
   "source": [
    "%%sql\n",
    "\n",
    "SELECT sub.percentile_rank, round(avg(sub.revenue),2) as average_revenue, \n",
    "    round(avg(sub.popularity),2) as average_popularity, round(avg(sub.vote_average),2) as average_voting\n",
    "FROM (SELECT BUDGET, REVENUE, popularity, vote_average, \n",
    "      ROUND(PERCENT_RANK() OVER (ORDER BY budget) ,1) as percentile_rank\n",
    "\t\tFROM movies) sub\n",
    "GROUP BY sub.percentile_rank"
   ]
  },
  {
   "cell_type": "markdown",
   "id": "4642ca15",
   "metadata": {},
   "source": [
    "We divided the budget into percentiles. \n",
    "Based on the data, indeed, there is a strong possitive correlation between budget and revenue. The possitive correlation could also be found between budget and popularity.\n",
    "Voting from watchers though, seems not to be really affected by the budget."
   ]
  },
  {
   "cell_type": "markdown",
   "id": "12d24558",
   "metadata": {},
   "source": [
    "Now that we know that revenue is linked to popularity, we are going to see is directors name important factor for a movie success. We are going to choose top 5 highest grossing directors and see if their name guarantee the movie success."
   ]
  },
  {
   "cell_type": "code",
   "execution_count": 11,
   "id": "58446954",
   "metadata": {},
   "outputs": [
    {
     "name": "stdout",
     "output_type": "stream",
     "text": [
      " * sqlite:///imdb.sqlite\n",
      "Done.\n"
     ]
    },
    {
     "data": {
      "text/html": [
       "<table>\n",
       "    <tr>\n",
       "        <th>name</th>\n",
       "        <th>min_voting</th>\n",
       "        <th>average_voting</th>\n",
       "        <th>min_popularity</th>\n",
       "        <th>average_popularity</th>\n",
       "        <th>min_revenue</th>\n",
       "        <th>average_revenue</th>\n",
       "    </tr>\n",
       "    <tr>\n",
       "        <td>Steven Spielberg</td>\n",
       "        <td>5.6</td>\n",
       "        <td>6.97</td>\n",
       "        <td>2</td>\n",
       "        <td>48.0</td>\n",
       "        <td>29450919</td>\n",
       "        <td>338792339.0</td>\n",
       "    </tr>\n",
       "    <tr>\n",
       "        <td>Peter Jackson</td>\n",
       "        <td>6.6</td>\n",
       "        <td>7.33</td>\n",
       "        <td>8</td>\n",
       "        <td>87.44</td>\n",
       "        <td>3049135</td>\n",
       "        <td>722071424.0</td>\n",
       "    </tr>\n",
       "    <tr>\n",
       "        <td>James Cameron</td>\n",
       "        <td>6.8</td>\n",
       "        <td>7.33</td>\n",
       "        <td>24</td>\n",
       "        <td>79.14</td>\n",
       "        <td>78371200</td>\n",
       "        <td>840509920.0</td>\n",
       "    </tr>\n",
       "    <tr>\n",
       "        <td>Michael Bay</td>\n",
       "        <td>5.8</td>\n",
       "        <td>6.4</td>\n",
       "        <td>21</td>\n",
       "        <td>42.83</td>\n",
       "        <td>69411370</td>\n",
       "        <td>486043720.0</td>\n",
       "    </tr>\n",
       "    <tr>\n",
       "        <td>Christopher Nolan</td>\n",
       "        <td>6.8</td>\n",
       "        <td>7.8</td>\n",
       "        <td>41</td>\n",
       "        <td>185.0</td>\n",
       "        <td>39723096</td>\n",
       "        <td>528435404.0</td>\n",
       "    </tr>\n",
       "</table>"
      ],
      "text/plain": [
       "[('Steven Spielberg', 5.6, 6.97, 2, 48.0, 29450919, 338792339.0),\n",
       " ('Peter Jackson', 6.6, 7.33, 8, 87.44, 3049135, 722071424.0),\n",
       " ('James Cameron', 6.8, 7.33, 24, 79.14, 78371200, 840509920.0),\n",
       " ('Michael Bay', 5.8, 6.4, 21, 42.83, 69411370, 486043720.0),\n",
       " ('Christopher Nolan', 6.8, 7.8, 41, 185.0, 39723096, 528435404.0)]"
      ]
     },
     "execution_count": 11,
     "metadata": {},
     "output_type": "execute_result"
    }
   ],
   "source": [
    "%%sql\n",
    "\n",
    "SELECT directors.name, min(movies.vote_average) as min_voting, round(avg(movies.vote_average),2) as average_voting, \n",
    "    min(movies.popularity) as min_popularity, round(avg(movies.popularity),2) as average_popularity, \n",
    "    min(movies.revenue) as min_revenue, round(avg(movies.revenue)) as average_revenue\n",
    "FROM directors\n",
    "INNER JOIN movies ON movies.director_id=directors.id\n",
    "WHERE directors.name in(\n",
    "    SELECT sub.name from(\n",
    "        SELECT DISTINCT directors.name, sum(movies.revenue) over (partition by directors.name) as total_revenue\n",
    "        from movies, directors\n",
    "        where directors.id=movies.director_id\n",
    "        order by total_revenue desc) sub\n",
    "    limit 5)\n",
    "GROUP BY directors.name\n",
    "ORDER BY sum(movies.revenue) desc"
   ]
  },
  {
   "cell_type": "markdown",
   "id": "8f42a682",
   "metadata": {},
   "source": [
    "Based on the data above, it depends on the directors themselves. Some directors managed to keep getting high numbers on popularity and revenue, meanwhile some of them could not. "
   ]
  },
  {
   "cell_type": "markdown",
   "id": "33961e5d",
   "metadata": {},
   "source": [
    "We can conclude, based on this data, revenue seems to be affected by a few factors like budget, and popularity. Directors also play a huge part, but can not guarantee the movie success. Choosing the right time for release date (esp. month) might also help to maximize the revenue."
   ]
  }
 ],
 "metadata": {
  "kernelspec": {
   "display_name": "Python 3 (ipykernel)",
   "language": "python",
   "name": "python3"
  },
  "language_info": {
   "codemirror_mode": {
    "name": "ipython",
    "version": 3
   },
   "file_extension": ".py",
   "mimetype": "text/x-python",
   "name": "python",
   "nbconvert_exporter": "python",
   "pygments_lexer": "ipython3",
   "version": "3.8.13"
  }
 },
 "nbformat": 4,
 "nbformat_minor": 5
}
